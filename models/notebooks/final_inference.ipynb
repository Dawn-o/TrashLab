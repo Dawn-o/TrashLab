{
  "cells": [
    {
      "cell_type": "code",
      "execution_count": 6,
      "metadata": {
        "id": "DV0VRV0SJVWh",
        "colab": {
          "base_uri": "https://localhost:8080/"
        },
        "outputId": "300fc5c5-8bf2-4659-fdef-2e722aa027b1"
      },
      "outputs": [
        {
          "output_type": "stream",
          "name": "stdout",
          "text": [
            "Requirement already satisfied: fastapi in /usr/local/lib/python3.11/dist-packages (0.115.12)\n",
            "Requirement already satisfied: uvicorn in /usr/local/lib/python3.11/dist-packages (0.34.0)\n",
            "Requirement already satisfied: python-multipart in /usr/local/lib/python3.11/dist-packages (0.0.20)\n",
            "Requirement already satisfied: pyngrok in /usr/local/lib/python3.11/dist-packages (7.2.3)\n",
            "Requirement already satisfied: loguru in /usr/local/lib/python3.11/dist-packages (0.7.3)\n",
            "Requirement already satisfied: starlette<0.47.0,>=0.40.0 in /usr/local/lib/python3.11/dist-packages (from fastapi) (0.46.1)\n",
            "Requirement already satisfied: pydantic!=1.8,!=1.8.1,!=2.0.0,!=2.0.1,!=2.1.0,<3.0.0,>=1.7.4 in /usr/local/lib/python3.11/dist-packages (from fastapi) (2.10.6)\n",
            "Requirement already satisfied: typing-extensions>=4.8.0 in /usr/local/lib/python3.11/dist-packages (from fastapi) (4.12.2)\n",
            "Requirement already satisfied: click>=7.0 in /usr/local/lib/python3.11/dist-packages (from uvicorn) (8.1.8)\n",
            "Requirement already satisfied: h11>=0.8 in /usr/local/lib/python3.11/dist-packages (from uvicorn) (0.14.0)\n",
            "Requirement already satisfied: PyYAML>=5.1 in /usr/local/lib/python3.11/dist-packages (from pyngrok) (6.0.2)\n",
            "Requirement already satisfied: annotated-types>=0.6.0 in /usr/local/lib/python3.11/dist-packages (from pydantic!=1.8,!=1.8.1,!=2.0.0,!=2.0.1,!=2.1.0,<3.0.0,>=1.7.4->fastapi) (0.7.0)\n",
            "Requirement already satisfied: pydantic-core==2.27.2 in /usr/local/lib/python3.11/dist-packages (from pydantic!=1.8,!=1.8.1,!=2.0.0,!=2.0.1,!=2.1.0,<3.0.0,>=1.7.4->fastapi) (2.27.2)\n",
            "Requirement already satisfied: anyio<5,>=3.6.2 in /usr/local/lib/python3.11/dist-packages (from starlette<0.47.0,>=0.40.0->fastapi) (4.9.0)\n",
            "Requirement already satisfied: idna>=2.8 in /usr/local/lib/python3.11/dist-packages (from anyio<5,>=3.6.2->starlette<0.47.0,>=0.40.0->fastapi) (3.10)\n",
            "Requirement already satisfied: sniffio>=1.1 in /usr/local/lib/python3.11/dist-packages (from anyio<5,>=3.6.2->starlette<0.47.0,>=0.40.0->fastapi) (1.3.1)\n"
          ]
        }
      ],
      "source": [
        "!pip install fastapi uvicorn python-multipart pyngrok loguru"
      ]
    },
    {
      "cell_type": "code",
      "execution_count": 7,
      "metadata": {
        "id": "c35gw5YqJ6fQ"
      },
      "outputs": [],
      "source": [
        "import tensorflow as tf\n",
        "import cv2\n",
        "import numpy as np\n",
        "from fastapi import FastAPI, File, UploadFile, HTTPException, Request\n",
        "from fastapi.responses import JSONResponse\n",
        "import nest_asyncio\n",
        "import uvicorn\n",
        "import threading\n",
        "from pyngrok import ngrok\n",
        "from loguru import logger\n",
        "import time\n",
        "import psutil\n",
        "import requests\n",
        "from fastapi.middleware.cors import CORSMiddleware\n",
        "from google.colab import drive\n",
        "import os\n",
        "from loguru import logger\n",
        "import datetime\n",
        "import pytz"
      ]
    },
    {
      "cell_type": "code",
      "execution_count": 13,
      "metadata": {
        "id": "Nf_fSHEhJ3ry",
        "colab": {
          "base_uri": "https://localhost:8080/"
        },
        "outputId": "07f09481-4a94-4526-b62f-5c6debe1e7fe"
      },
      "outputs": [
        {
          "output_type": "stream",
          "name": "stdout",
          "text": [
            "Drive already mounted at /content/drive; to attempt to forcibly remount, call drive.mount(\"/content/drive\", force_remount=True).\n"
          ]
        }
      ],
      "source": [
        "# Mount Google Drive\n",
        "drive.mount('/content/drive')\n",
        "\n",
        "# Setup logger\n",
        "import pytz\n",
        "from loguru import logger\n",
        "from datetime import datetime\n",
        "\n",
        "# Hapus konfigurasi default loguru\n",
        "logger.remove()\n",
        "\n",
        "# Set zona waktu Jakarta\n",
        "tz_jakarta = pytz.timezone(\"Asia/Jakarta\")\n",
        "\n",
        "# Custom formatter untuk waktu log\n",
        "def custom_time_format(record):\n",
        "    jakarta_time = datetime.now(tz_jakarta)\n",
        "    return jakarta_time.strftime(\"%Y-%m-%d %H:%M:%S\")\n",
        "\n",
        "# Tambahkan logger dengan format waktu yang sudah disesuaikan\n",
        "logger.add(\n",
        "    \"app.log\",\n",
        "    format=\"{time} {level} {message}\",\n",
        "    level=\"INFO\",\n",
        "    enqueue=True,\n",
        "    serialize=False,\n",
        "    backtrace=True,\n",
        "    diagnose=True\n",
        ")\n",
        "\n",
        "# Gunakan timezone Jakarta untuk semua log yang di-generate\n",
        "logger.configure(patcher=lambda record: record.update(time=custom_time_format(record)))\n",
        "\n",
        "logger.info(\"✅ Log sudah menggunakan zona waktu Jakarta (WIB)\")\n",
        "\n",
        "# Buat instance FastAPI\n",
        "app = FastAPI()"
      ]
    },
    {
      "cell_type": "code",
      "execution_count": 9,
      "metadata": {
        "id": "uIv-YK4cJ2Qj"
      },
      "outputs": [],
      "source": [
        "# Middleware untuk CORS\n",
        "app.add_middleware(\n",
        "    CORSMiddleware,\n",
        "    allow_origins=[\"*\"],\n",
        "    allow_credentials=True,\n",
        "    allow_methods=[\"*\"],\n",
        "    allow_headers=[\"*\"],\n",
        ")"
      ]
    },
    {
      "cell_type": "code",
      "execution_count": 14,
      "metadata": {
        "id": "zAW8LgkCJ0Vd"
      },
      "outputs": [],
      "source": [
        "# Path ke model di Google Drive (ganti dengan path yang sesuai)\n",
        "MODEL_PATH = \"/content/drive/MyDrive/saved_model_trashlab\"\n",
        "\n",
        "# Load model dari Google Drive\n",
        "try:\n",
        "    loaded_model = tf.keras.layers.TFSMLayer(MODEL_PATH, call_endpoint=\"serving_default\")\n",
        "    logger.info(\"✅ Model berhasil dimuat dari Google Drive.\")\n",
        "except Exception as e:\n",
        "    logger.error(f\"❌ Error saat load model: {e}\")"
      ]
    },
    {
      "cell_type": "code",
      "execution_count": 15,
      "metadata": {
        "id": "iY-Lwus3JxR0"
      },
      "outputs": [],
      "source": [
        "# Fungsi untuk memproses gambar dari file bytes\n",
        "def preprocess_image_bytes(image_bytes: bytes):\n",
        "    try:\n",
        "        nparr = np.frombuffer(image_bytes, np.uint8)\n",
        "        img = cv2.imdecode(nparr, cv2.IMREAD_COLOR)\n",
        "        if img is None:\n",
        "            raise ValueError(\"Gagal membaca gambar.\")\n",
        "        img = cv2.cvtColor(img, cv2.COLOR_BGR2RGB)\n",
        "        img = cv2.resize(img, (224, 224))\n",
        "        img = img / 255.0\n",
        "        img = np.expand_dims(img, axis=0).astype(np.float32)\n",
        "        return img\n",
        "    except Exception as e:\n",
        "        logger.error(f\"⚠ Error dalam preprocessing gambar: {e}\")\n",
        "        raise"
      ]
    },
    {
      "cell_type": "code",
      "execution_count": 16,
      "metadata": {
        "id": "8NLqV9lbJu36"
      },
      "outputs": [],
      "source": [
        "# Cek status ngrok\n",
        "def check_ngrok_status():\n",
        "    try:\n",
        "        ngrok_tunnels = requests.get(\"http://127.0.0.1:4040/api/tunnels\").json()\n",
        "        if ngrok_tunnels.get(\"tunnels\"):\n",
        "            logger.info(f\"🔗 Ngrok aktif di {ngrok_tunnels['tunnels'][0]['public_url']}\")\n",
        "        else:\n",
        "            logger.warning(\"⚠ Ngrok tidak berjalan.\")\n",
        "    except Exception as e:\n",
        "        logger.error(f\"❌ Error cek status ngrok: {e}\")"
      ]
    },
    {
      "cell_type": "code",
      "execution_count": 17,
      "metadata": {
        "id": "K6m6duveJsuT"
      },
      "outputs": [],
      "source": [
        "# Cek Port\n",
        "def is_port_in_use(port=8000):\n",
        "    \"\"\"Cek apakah port sudah digunakan\"\"\"\n",
        "    for conn in psutil.net_connections():\n",
        "        if conn.laddr.port == port:\n",
        "            return True\n",
        "    return False"
      ]
    },
    {
      "cell_type": "code",
      "execution_count": 18,
      "metadata": {
        "id": "hhzUnK2WJhqZ"
      },
      "outputs": [],
      "source": [
        "# Monitoring CPU & Memory\n",
        "def log_system_usage():\n",
        "    cpu_percent = psutil.cpu_percent()\n",
        "    memory_percent = psutil.virtual_memory().percent\n",
        "    logger.info(f\"💾 CPU Usage: {cpu_percent}%, Memory Usage: {memory_percent}%\")"
      ]
    },
    {
      "cell_type": "code",
      "execution_count": 19,
      "metadata": {
        "id": "gJ2Z_mzmJmGb"
      },
      "outputs": [],
      "source": [
        "@app.post(\"/predict\")\n",
        "async def predict(request: Request, file: UploadFile = File(...)):\n",
        "    start_time = time.time()\n",
        "    logger.info(f\"📥 Request dari {request.client.host} - Upload file: {file.filename}\")\n",
        "\n",
        "    if not file.content_type.startswith(\"image/\"):\n",
        "        logger.warning(\"⚠ Request dengan format file tidak valid\")\n",
        "        raise HTTPException(status_code=400, detail=\"File harus berupa gambar.\")\n",
        "\n",
        "    image_bytes = await file.read()\n",
        "\n",
        "    try:\n",
        "        img = preprocess_image_bytes(image_bytes)\n",
        "    except Exception as e:\n",
        "        logger.error(f\"⚠ Preprocessing gagal: {e}\")\n",
        "        raise HTTPException(status_code=500, detail=str(e))\n",
        "\n",
        "    try:\n",
        "        prediction = loaded_model(img)\n",
        "\n",
        "        if isinstance(prediction, dict):\n",
        "            prediction = list(prediction.values())[0]\n",
        "        if isinstance(prediction, tf.Tensor):\n",
        "            prediction = prediction.numpy()\n",
        "\n",
        "        label = \"Organik\" if prediction[0][0] < 0.5 else \"Anorganik\"\n",
        "        confidence = 1 - prediction[0][0] if label == \"Organik\" else prediction[0][0]\n",
        "\n",
        "        response_time = time.time() - start_time\n",
        "        logger.info(f\"✅ Prediksi: {label}, Confidence: {confidence:.4f}, Waktu Response: {response_time:.4f} detik\")\n",
        "\n",
        "        log_system_usage()\n",
        "\n",
        "        return JSONResponse(content={\"label\": label, \"confidence\": float(confidence), \"response_time\": response_time})\n",
        "\n",
        "    except Exception as e:\n",
        "        logger.error(f\"❌ Error saat inferensi model: {e}\")\n",
        "        raise HTTPException(status_code=500, detail=\"Terjadi kesalahan dalam proses prediksi.\")"
      ]
    },
    {
      "cell_type": "code",
      "execution_count": 20,
      "metadata": {
        "id": "IK3OVG6pJba6",
        "colab": {
          "base_uri": "https://localhost:8080/"
        },
        "outputId": "15470e57-70b6-4b3f-815b-5855f8e70e2a"
      },
      "outputs": [
        {
          "output_type": "stream",
          "name": "stderr",
          "text": [
            "INFO:     Started server process [127638]\n",
            "INFO:     Waiting for application startup.\n",
            "INFO:     Application startup complete.\n",
            "INFO:     Uvicorn running on http://0.0.0.0:8000 (Press CTRL+C to quit)\n"
          ]
        },
        {
          "output_type": "stream",
          "name": "stdout",
          "text": [
            "🌍 API dapat diakses di: https://3abc-34-59-255-38.ngrok-free.app/docs\n"
          ]
        }
      ],
      "source": [
        "# Patch event loop agar bisa digunakan di Colab\n",
        "nest_asyncio.apply()\n",
        "\n",
        "# Jalankan server di thread terpisah\n",
        "def run_app():\n",
        "    uvicorn.run(app, host=\"0.0.0.0\", port=8000)\n",
        "\n",
        "if not is_port_in_use(8000):\n",
        "    thread = threading.Thread(target=run_app, daemon=True)\n",
        "    thread.start()\n",
        "else:\n",
        "    logger.info(\"⚠ Server sudah berjalan di port 8000, tidak perlu start ulang.\")\n",
        "\n",
        "# Setup ngrok\n",
        "ngrok.set_auth_token(\"2uWZD6tDejTyGtXJTfSCvhRDDnd_AQRVUL7hVxpYgsEGcGba\")  # Ganti dengan token ngrok\n",
        "public_url = ngrok.connect(8000).public_url\n",
        "logger.info(f\"🌍 Aplikasi FastAPI sudah berjalan di {public_url}\")\n",
        "\n",
        "# Tampilkan URL ngrok\n",
        "print(f\"🌍 API dapat diakses di: {public_url}/docs\")"
      ]
    },
    {
      "cell_type": "code",
      "execution_count": null,
      "metadata": {
        "colab": {
          "base_uri": "https://localhost:8080/"
        },
        "id": "ZxQuRYyiMl10",
        "outputId": "13f62bc3-7183-4496-a733-8013a1f31f66"
      },
      "outputs": [
        {
          "output_type": "stream",
          "name": "stdout",
          "text": [
            "Keeping Colab alive...\n",
            "INFO:     182.1.64.58:0 - \"GET /docs HTTP/1.1\" 200 OK\n",
            "INFO:     182.1.64.58:0 - \"GET /openapi.json HTTP/1.1\" 200 OK\n",
            "INFO:     182.1.64.58:0 - \"POST /predict HTTP/1.1\" 200 OK\n"
          ]
        }
      ],
      "source": [
        "import time\n",
        "while True:\n",
        "    print(\"Keeping Colab alive...\", flush=True)\n",
        "    time.sleep(600)  # Setiap 10 menit"
      ]
    }
  ],
  "metadata": {
    "colab": {
      "provenance": []
    },
    "kernelspec": {
      "display_name": "Python 3",
      "name": "python3"
    },
    "language_info": {
      "name": "python"
    }
  },
  "nbformat": 4,
  "nbformat_minor": 0
}