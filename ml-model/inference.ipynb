{
  "cells": [
    {
      "cell_type": "code",
      "execution_count": 1,
      "metadata": {
        "colab": {
          "base_uri": "https://localhost:8080/"
        },
        "id": "DV0VRV0SJVWh",
        "outputId": "1f1908b1-bda4-4a2c-c52b-644f87cf026a"
      },
      "outputs": [
        {
          "output_type": "stream",
          "name": "stdout",
          "text": [
            "Collecting fastapi\n",
            "  Downloading fastapi-0.115.11-py3-none-any.whl.metadata (27 kB)\n",
            "Collecting uvicorn\n",
            "  Downloading uvicorn-0.34.0-py3-none-any.whl.metadata (6.5 kB)\n",
            "Collecting python-multipart\n",
            "  Downloading python_multipart-0.0.20-py3-none-any.whl.metadata (1.8 kB)\n",
            "Collecting pyngrok\n",
            "  Downloading pyngrok-7.2.3-py3-none-any.whl.metadata (8.7 kB)\n",
            "Collecting loguru\n",
            "  Downloading loguru-0.7.3-py3-none-any.whl.metadata (22 kB)\n",
            "Collecting starlette<0.47.0,>=0.40.0 (from fastapi)\n",
            "  Downloading starlette-0.46.1-py3-none-any.whl.metadata (6.2 kB)\n",
            "Requirement already satisfied: pydantic!=1.8,!=1.8.1,!=2.0.0,!=2.0.1,!=2.1.0,<3.0.0,>=1.7.4 in /usr/local/lib/python3.11/dist-packages (from fastapi) (2.10.6)\n",
            "Requirement already satisfied: typing-extensions>=4.8.0 in /usr/local/lib/python3.11/dist-packages (from fastapi) (4.12.2)\n",
            "Requirement already satisfied: click>=7.0 in /usr/local/lib/python3.11/dist-packages (from uvicorn) (8.1.8)\n",
            "Requirement already satisfied: h11>=0.8 in /usr/local/lib/python3.11/dist-packages (from uvicorn) (0.14.0)\n",
            "Requirement already satisfied: PyYAML>=5.1 in /usr/local/lib/python3.11/dist-packages (from pyngrok) (6.0.2)\n",
            "Requirement already satisfied: annotated-types>=0.6.0 in /usr/local/lib/python3.11/dist-packages (from pydantic!=1.8,!=1.8.1,!=2.0.0,!=2.0.1,!=2.1.0,<3.0.0,>=1.7.4->fastapi) (0.7.0)\n",
            "Requirement already satisfied: pydantic-core==2.27.2 in /usr/local/lib/python3.11/dist-packages (from pydantic!=1.8,!=1.8.1,!=2.0.0,!=2.0.1,!=2.1.0,<3.0.0,>=1.7.4->fastapi) (2.27.2)\n",
            "Requirement already satisfied: anyio<5,>=3.6.2 in /usr/local/lib/python3.11/dist-packages (from starlette<0.47.0,>=0.40.0->fastapi) (4.9.0)\n",
            "Requirement already satisfied: idna>=2.8 in /usr/local/lib/python3.11/dist-packages (from anyio<5,>=3.6.2->starlette<0.47.0,>=0.40.0->fastapi) (3.10)\n",
            "Requirement already satisfied: sniffio>=1.1 in /usr/local/lib/python3.11/dist-packages (from anyio<5,>=3.6.2->starlette<0.47.0,>=0.40.0->fastapi) (1.3.1)\n",
            "Downloading fastapi-0.115.11-py3-none-any.whl (94 kB)\n",
            "\u001b[2K   \u001b[90m━━━━━━━━━━━━━━━━━━━━━━━━━━━━━━━━━━━━━━━━\u001b[0m \u001b[32m94.9/94.9 kB\u001b[0m \u001b[31m4.0 MB/s\u001b[0m eta \u001b[36m0:00:00\u001b[0m\n",
            "\u001b[?25hDownloading uvicorn-0.34.0-py3-none-any.whl (62 kB)\n",
            "\u001b[2K   \u001b[90m━━━━━━━━━━━━━━━━━━━━━━━━━━━━━━━━━━━━━━━━\u001b[0m \u001b[32m62.3/62.3 kB\u001b[0m \u001b[31m3.0 MB/s\u001b[0m eta \u001b[36m0:00:00\u001b[0m\n",
            "\u001b[?25hDownloading python_multipart-0.0.20-py3-none-any.whl (24 kB)\n",
            "Downloading pyngrok-7.2.3-py3-none-any.whl (23 kB)\n",
            "Downloading loguru-0.7.3-py3-none-any.whl (61 kB)\n",
            "\u001b[2K   \u001b[90m━━━━━━━━━━━━━━━━━━━━━━━━━━━━━━━━━━━━━━━━\u001b[0m \u001b[32m61.6/61.6 kB\u001b[0m \u001b[31m3.5 MB/s\u001b[0m eta \u001b[36m0:00:00\u001b[0m\n",
            "\u001b[?25hDownloading starlette-0.46.1-py3-none-any.whl (71 kB)\n",
            "\u001b[2K   \u001b[90m━━━━━━━━━━━━━━━━━━━━━━━━━━━━━━━━━━━━━━━━\u001b[0m \u001b[32m72.0/72.0 kB\u001b[0m \u001b[31m3.9 MB/s\u001b[0m eta \u001b[36m0:00:00\u001b[0m\n",
            "\u001b[?25hInstalling collected packages: uvicorn, python-multipart, pyngrok, loguru, starlette, fastapi\n",
            "Successfully installed fastapi-0.115.11 loguru-0.7.3 pyngrok-7.2.3 python-multipart-0.0.20 starlette-0.46.1 uvicorn-0.34.0\n"
          ]
        }
      ],
      "source": [
        "!pip install fastapi uvicorn python-multipart pyngrok loguru"
      ]
    },
    {
      "cell_type": "code",
      "execution_count": 2,
      "metadata": {
        "id": "c35gw5YqJ6fQ"
      },
      "outputs": [],
      "source": [
        "import tensorflow as tf\n",
        "import cv2\n",
        "import numpy as np\n",
        "from fastapi import FastAPI, File, UploadFile, HTTPException, Request\n",
        "from fastapi.responses import JSONResponse\n",
        "import nest_asyncio\n",
        "import uvicorn\n",
        "import threading\n",
        "from pyngrok import ngrok\n",
        "from loguru import logger\n",
        "import time\n",
        "import psutil\n",
        "import requests\n",
        "from fastapi.middleware.cors import CORSMiddleware\n",
        "from google.colab import drive\n",
        "import os"
      ]
    },
    {
      "cell_type": "code",
      "execution_count": 3,
      "metadata": {
        "colab": {
          "base_uri": "https://localhost:8080/"
        },
        "id": "Nf_fSHEhJ3ry",
        "outputId": "ac7e7078-1040-4455-baed-ec8d02ccb5fb"
      },
      "outputs": [
        {
          "output_type": "stream",
          "name": "stdout",
          "text": [
            "Mounted at /content/drive\n"
          ]
        }
      ],
      "source": [
        "# Mount Google Drive\n",
        "drive.mount('/content/drive')\n",
        "\n",
        "# Setup logger\n",
        "logger.add(\"app.log\", rotation=\"1 day\", level=\"INFO\")\n",
        "\n",
        "# Buat instance FastAPI\n",
        "app = FastAPI()"
      ]
    },
    {
      "cell_type": "code",
      "execution_count": 4,
      "metadata": {
        "id": "uIv-YK4cJ2Qj"
      },
      "outputs": [],
      "source": [
        "# Middleware untuk CORS\n",
        "app.add_middleware(\n",
        "    CORSMiddleware,\n",
        "    allow_origins=[\"*\"],\n",
        "    allow_credentials=True,\n",
        "    allow_methods=[\"*\"],\n",
        "    allow_headers=[\"*\"],\n",
        ")"
      ]
    },
    {
      "cell_type": "code",
      "execution_count": 5,
      "metadata": {
        "colab": {
          "base_uri": "https://localhost:8080/"
        },
        "id": "zAW8LgkCJ0Vd",
        "outputId": "bcdaf24a-6cc5-4948-e607-e0e342b28d4c"
      },
      "outputs": [
        {
          "output_type": "stream",
          "name": "stderr",
          "text": [
            "\u001b[32m2025-03-23 16:39:34.045\u001b[0m | \u001b[1mINFO    \u001b[0m | \u001b[36m__main__\u001b[0m:\u001b[36m<cell line: 0>\u001b[0m:\u001b[36m7\u001b[0m - \u001b[1m✅ Model berhasil dimuat dari Google Drive.\u001b[0m\n"
          ]
        }
      ],
      "source": [
        "# Path ke model di Google Drive (ganti dengan path yang sesuai)\n",
        "MODEL_PATH = \"/content/drive/MyDrive/saved_model_trashlab\"\n",
        "\n",
        "# Load model dari Google Drive\n",
        "try:\n",
        "    loaded_model = tf.keras.layers.TFSMLayer(MODEL_PATH, call_endpoint=\"serving_default\")\n",
        "    logger.info(\"✅ Model berhasil dimuat dari Google Drive.\")\n",
        "except Exception as e:\n",
        "    logger.error(f\"❌ Error saat load model: {e}\")"
      ]
    },
    {
      "cell_type": "code",
      "execution_count": 6,
      "metadata": {
        "id": "iY-Lwus3JxR0"
      },
      "outputs": [],
      "source": [
        "# Fungsi untuk memproses gambar dari file bytes\n",
        "def preprocess_image_bytes(image_bytes: bytes):\n",
        "    try:\n",
        "        nparr = np.frombuffer(image_bytes, np.uint8)\n",
        "        img = cv2.imdecode(nparr, cv2.IMREAD_COLOR)\n",
        "        if img is None:\n",
        "            raise ValueError(\"Gagal membaca gambar.\")\n",
        "        img = cv2.cvtColor(img, cv2.COLOR_BGR2RGB)\n",
        "        img = cv2.resize(img, (224, 224))\n",
        "        img = img / 255.0\n",
        "        img = np.expand_dims(img, axis=0).astype(np.float32)\n",
        "        return img\n",
        "    except Exception as e:\n",
        "        logger.error(f\"⚠ Error dalam preprocessing gambar: {e}\")\n",
        "        raise"
      ]
    },
    {
      "cell_type": "code",
      "execution_count": 7,
      "metadata": {
        "id": "8NLqV9lbJu36"
      },
      "outputs": [],
      "source": [
        "# Cek status ngrok\n",
        "def check_ngrok_status():\n",
        "    try:\n",
        "        ngrok_tunnels = requests.get(\"http://127.0.0.1:4040/api/tunnels\").json()\n",
        "        if ngrok_tunnels.get(\"tunnels\"):\n",
        "            logger.info(f\"🔗 Ngrok aktif di {ngrok_tunnels['tunnels'][0]['public_url']}\")\n",
        "        else:\n",
        "            logger.warning(\"⚠ Ngrok tidak berjalan.\")\n",
        "    except Exception as e:\n",
        "        logger.error(f\"❌ Error cek status ngrok: {e}\")"
      ]
    },
    {
      "cell_type": "code",
      "execution_count": 8,
      "metadata": {
        "id": "K6m6duveJsuT"
      },
      "outputs": [],
      "source": [
        "# Cek Port\n",
        "def is_port_in_use(port=8000):\n",
        "    \"\"\"Cek apakah port sudah digunakan\"\"\"\n",
        "    for conn in psutil.net_connections():\n",
        "        if conn.laddr.port == port:\n",
        "            return True\n",
        "    return False"
      ]
    },
    {
      "cell_type": "code",
      "execution_count": 9,
      "metadata": {
        "id": "hhzUnK2WJhqZ"
      },
      "outputs": [],
      "source": [
        "# Monitoring CPU & Memory\n",
        "def log_system_usage():\n",
        "    cpu_percent = psutil.cpu_percent()\n",
        "    memory_percent = psutil.virtual_memory().percent\n",
        "    logger.info(f\"💾 CPU Usage: {cpu_percent}%, Memory Usage: {memory_percent}%\")"
      ]
    },
    {
      "cell_type": "code",
      "execution_count": 10,
      "metadata": {
        "id": "gJ2Z_mzmJmGb"
      },
      "outputs": [],
      "source": [
        "@app.post(\"/predict\")\n",
        "async def predict(request: Request, file: UploadFile = File(...)):\n",
        "    start_time = time.time()\n",
        "    logger.info(f\"📥 Request dari {request.client.host} - Upload file: {file.filename}\")\n",
        "\n",
        "    if not file.content_type.startswith(\"image/\"):\n",
        "        logger.warning(\"⚠ Request dengan format file tidak valid\")\n",
        "        raise HTTPException(status_code=400, detail=\"File harus berupa gambar.\")\n",
        "\n",
        "    image_bytes = await file.read()\n",
        "\n",
        "    try:\n",
        "        img = preprocess_image_bytes(image_bytes)\n",
        "    except Exception as e:\n",
        "        logger.error(f\"⚠ Preprocessing gagal: {e}\")\n",
        "        raise HTTPException(status_code=500, detail=str(e))\n",
        "\n",
        "    try:\n",
        "        prediction = loaded_model(img)\n",
        "\n",
        "        if isinstance(prediction, dict):\n",
        "            prediction = list(prediction.values())[0]\n",
        "        if isinstance(prediction, tf.Tensor):\n",
        "            prediction = prediction.numpy()\n",
        "\n",
        "        label = \"Organik\" if prediction[0][0] < 0.5 else \"Anorganik\"\n",
        "        confidence = 1 - prediction[0][0] if label == \"Organik\" else prediction[0][0]\n",
        "\n",
        "        response_time = time.time() - start_time\n",
        "        logger.info(f\"✅ Prediksi: {label}, Confidence: {confidence:.4f}, Waktu Response: {response_time:.4f} detik\")\n",
        "\n",
        "        log_system_usage()\n",
        "\n",
        "        return JSONResponse(content={\"label\": label, \"confidence\": float(confidence), \"response_time\": response_time})\n",
        "\n",
        "    except Exception as e:\n",
        "        logger.error(f\"❌ Error saat inferensi model: {e}\")\n",
        "        raise HTTPException(status_code=500, detail=\"Terjadi kesalahan dalam proses prediksi.\")"
      ]
    },
    {
      "cell_type": "code",
      "execution_count": 11,
      "metadata": {
        "colab": {
          "base_uri": "https://localhost:8080/"
        },
        "id": "IK3OVG6pJba6",
        "outputId": "36bd6e19-5be5-4c33-ad40-9d620cf714b7"
      },
      "outputs": [
        {
          "output_type": "stream",
          "name": "stdout",
          "text": [
            "Downloading ngrok ...\r"
          ]
        },
        {
          "output_type": "stream",
          "name": "stderr",
          "text": [
            "INFO:     Started server process [531]\n",
            "INFO:     Waiting for application startup.\n",
            "INFO:     Application startup complete.\n",
            "INFO:     Uvicorn running on http://0.0.0.0:8000 (Press CTRL+C to quit)\n"
          ]
        },
        {
          "output_type": "stream",
          "name": "stdout",
          "text": []
        },
        {
          "output_type": "stream",
          "name": "stderr",
          "text": [
            "\u001b[32m2025-03-23 16:39:35.461\u001b[0m | \u001b[1mINFO    \u001b[0m | \u001b[36m__main__\u001b[0m:\u001b[36m<cell line: 0>\u001b[0m:\u001b[36m17\u001b[0m - \u001b[1m🌍 Aplikasi FastAPI sudah berjalan di https://3d59-104-196-110-231.ngrok-free.app\u001b[0m\n"
          ]
        },
        {
          "output_type": "stream",
          "name": "stdout",
          "text": [
            "🌍 API dapat diakses di: https://3d59-104-196-110-231.ngrok-free.app/docs\n"
          ]
        }
      ],
      "source": [
        "# Patch event loop agar bisa digunakan di Colab\n",
        "nest_asyncio.apply()\n",
        "\n",
        "# Jalankan server di thread terpisah\n",
        "def run_app():\n",
        "    uvicorn.run(app, host=\"0.0.0.0\", port=8000)\n",
        "\n",
        "if not is_port_in_use(8000):\n",
        "    thread = threading.Thread(target=run_app, daemon=True)\n",
        "    thread.start()\n",
        "else:\n",
        "    logger.info(\"⚠ Server sudah berjalan di port 8000, tidak perlu start ulang.\")\n",
        "\n",
        "# Setup ngrok\n",
        "ngrok.set_auth_token(\"\")  # Ganti dengan token ngrok\n",
        "public_url = ngrok.connect(8000).public_url\n",
        "logger.info(f\"🌍 Aplikasi FastAPI sudah berjalan di {public_url}\")\n",
        "\n",
        "# Tampilkan URL ngrok\n",
        "print(f\"🌍 API dapat diakses di: {public_url}/docs\")"
      ]
    },
    {
      "cell_type": "code",
      "execution_count": null,
      "metadata": {
        "colab": {
          "background_save": true,
          "base_uri": "https://localhost:8080/"
        },
        "id": "ZxQuRYyiMl10",
        "outputId": "32f9e567-b31d-4c10-fbd9-69101da57615"
      },
      "outputs": [
        {
          "output_type": "stream",
          "name": "stdout",
          "text": [
            "Keeping Colab alive...\n",
            "INFO:     114.124.180.180:0 - \"GET /docs HTTP/1.1\" 200 OK\n",
            "INFO:     114.124.180.180:0 - \"GET /openapi.json HTTP/1.1\" 200 OK\n"
          ]
        },
        {
          "output_type": "stream",
          "name": "stderr",
          "text": [
            "\u001b[32m2025-03-23 16:46:58.378\u001b[0m | \u001b[1mINFO    \u001b[0m | \u001b[36m__main__\u001b[0m:\u001b[36mpredict\u001b[0m:\u001b[36m4\u001b[0m - \u001b[1m📥 Request dari 103.141.47.104 - Upload file: limbah kaca.jpg\u001b[0m\n",
            "\u001b[32m2025-03-23 16:46:59.047\u001b[0m | \u001b[1mINFO    \u001b[0m | \u001b[36m__main__\u001b[0m:\u001b[36mpredict\u001b[0m:\u001b[36m30\u001b[0m - \u001b[1m✅ Prediksi: Anorganik, Confidence: 0.9809, Waktu Response: 0.6691 detik\u001b[0m\n",
            "\u001b[32m2025-03-23 16:46:59.049\u001b[0m | \u001b[1mINFO    \u001b[0m | \u001b[36m__main__\u001b[0m:\u001b[36mlog_system_usage\u001b[0m:\u001b[36m5\u001b[0m - \u001b[1m💾 CPU Usage: 23.2%, Memory Usage: 13.7%\u001b[0m\n"
          ]
        },
        {
          "output_type": "stream",
          "name": "stdout",
          "text": [
            "INFO:     103.141.47.104:0 - \"POST /predict HTTP/1.1\" 200 OK\n"
          ]
        },
        {
          "output_type": "stream",
          "name": "stderr",
          "text": [
            "\u001b[32m2025-03-23 16:47:18.205\u001b[0m | \u001b[1mINFO    \u001b[0m | \u001b[36m__main__\u001b[0m:\u001b[36mpredict\u001b[0m:\u001b[36m4\u001b[0m - \u001b[1m📥 Request dari 103.141.47.104 - Upload file: mixed limbah.jpg\u001b[0m\n",
            "\u001b[32m2025-03-23 16:47:18.246\u001b[0m | \u001b[1mINFO    \u001b[0m | \u001b[36m__main__\u001b[0m:\u001b[36mpredict\u001b[0m:\u001b[36m30\u001b[0m - \u001b[1m✅ Prediksi: Anorganik, Confidence: 0.9831, Waktu Response: 0.0407 detik\u001b[0m\n",
            "\u001b[32m2025-03-23 16:47:18.247\u001b[0m | \u001b[1mINFO    \u001b[0m | \u001b[36m__main__\u001b[0m:\u001b[36mlog_system_usage\u001b[0m:\u001b[36m5\u001b[0m - \u001b[1m💾 CPU Usage: 15.9%, Memory Usage: 13.7%\u001b[0m\n"
          ]
        },
        {
          "output_type": "stream",
          "name": "stdout",
          "text": [
            "INFO:     103.141.47.104:0 - \"POST /predict HTTP/1.1\" 200 OK\n",
            "Keeping Colab alive...\n"
          ]
        },
        {
          "output_type": "stream",
          "name": "stderr",
          "text": [
            "\u001b[32m2025-03-23 16:50:38.385\u001b[0m | \u001b[1mINFO    \u001b[0m | \u001b[36m__main__\u001b[0m:\u001b[36mpredict\u001b[0m:\u001b[36m4\u001b[0m - \u001b[1m📥 Request dari 114.124.174.36 - Upload file: 12.jpg\u001b[0m\n",
            "\u001b[32m2025-03-23 16:50:38.432\u001b[0m | \u001b[1mINFO    \u001b[0m | \u001b[36m__main__\u001b[0m:\u001b[36mpredict\u001b[0m:\u001b[36m30\u001b[0m - \u001b[1m✅ Prediksi: Anorganik, Confidence: 0.9729, Waktu Response: 0.0477 detik\u001b[0m\n",
            "\u001b[32m2025-03-23 16:50:38.434\u001b[0m | \u001b[1mINFO    \u001b[0m | \u001b[36m__main__\u001b[0m:\u001b[36mlog_system_usage\u001b[0m:\u001b[36m5\u001b[0m - \u001b[1m💾 CPU Usage: 12.9%, Memory Usage: 13.6%\u001b[0m\n"
          ]
        },
        {
          "output_type": "stream",
          "name": "stdout",
          "text": [
            "INFO:     114.124.174.36:0 - \"POST /predict HTTP/1.1\" 200 OK\n"
          ]
        },
        {
          "output_type": "stream",
          "name": "stderr",
          "text": [
            "\u001b[32m2025-03-23 16:50:51.950\u001b[0m | \u001b[1mINFO    \u001b[0m | \u001b[36m__main__\u001b[0m:\u001b[36mpredict\u001b[0m:\u001b[36m4\u001b[0m - \u001b[1m📥 Request dari 114.124.174.36 - Upload file: 12.jpg\u001b[0m\n",
            "\u001b[32m2025-03-23 16:50:51.993\u001b[0m | \u001b[1mINFO    \u001b[0m | \u001b[36m__main__\u001b[0m:\u001b[36mpredict\u001b[0m:\u001b[36m30\u001b[0m - \u001b[1m✅ Prediksi: Anorganik, Confidence: 0.9729, Waktu Response: 0.0430 detik\u001b[0m\n",
            "\u001b[32m2025-03-23 16:50:51.994\u001b[0m | \u001b[1mINFO    \u001b[0m | \u001b[36m__main__\u001b[0m:\u001b[36mlog_system_usage\u001b[0m:\u001b[36m5\u001b[0m - \u001b[1m💾 CPU Usage: 12.7%, Memory Usage: 13.6%\u001b[0m\n"
          ]
        },
        {
          "output_type": "stream",
          "name": "stdout",
          "text": [
            "INFO:     114.124.174.36:0 - \"POST /predict HTTP/1.1\" 200 OK\n",
            "Keeping Colab alive...\n",
            "Keeping Colab alive...\n",
            "Keeping Colab alive...\n",
            "Keeping Colab alive...\n"
          ]
        },
        {
          "output_type": "stream",
          "name": "stderr",
          "text": [
            "\u001b[32m2025-03-23 17:38:21.424\u001b[0m | \u001b[1mINFO    \u001b[0m | \u001b[36m__main__\u001b[0m:\u001b[36mpredict\u001b[0m:\u001b[36m4\u001b[0m - \u001b[1m📥 Request dari 103.141.47.104 - Upload file: mixed limbah.jpg\u001b[0m\n",
            "\u001b[32m2025-03-23 17:38:21.475\u001b[0m | \u001b[1mINFO    \u001b[0m | \u001b[36m__main__\u001b[0m:\u001b[36mpredict\u001b[0m:\u001b[36m30\u001b[0m - \u001b[1m✅ Prediksi: Anorganik, Confidence: 0.9831, Waktu Response: 0.0510 detik\u001b[0m\n",
            "\u001b[32m2025-03-23 17:38:21.476\u001b[0m | \u001b[1mINFO    \u001b[0m | \u001b[36m__main__\u001b[0m:\u001b[36mlog_system_usage\u001b[0m:\u001b[36m5\u001b[0m - \u001b[1m💾 CPU Usage: 13.1%, Memory Usage: 13.5%\u001b[0m\n"
          ]
        },
        {
          "output_type": "stream",
          "name": "stdout",
          "text": [
            "INFO:     103.141.47.104:0 - \"POST /predict HTTP/1.1\" 200 OK\n",
            "Keeping Colab alive...\n"
          ]
        },
        {
          "output_type": "stream",
          "name": "stderr",
          "text": [
            "\u001b[32m2025-03-23 17:44:48.773\u001b[0m | \u001b[1mINFO    \u001b[0m | \u001b[36m__main__\u001b[0m:\u001b[36mpredict\u001b[0m:\u001b[36m4\u001b[0m - \u001b[1m📥 Request dari 103.141.47.104 - Upload file: mixed limbah.jpg\u001b[0m\n",
            "\u001b[32m2025-03-23 17:44:48.815\u001b[0m | \u001b[1mINFO    \u001b[0m | \u001b[36m__main__\u001b[0m:\u001b[36mpredict\u001b[0m:\u001b[36m30\u001b[0m - \u001b[1m✅ Prediksi: Anorganik, Confidence: 0.9831, Waktu Response: 0.0422 detik\u001b[0m\n",
            "\u001b[32m2025-03-23 17:44:48.816\u001b[0m | \u001b[1mINFO    \u001b[0m | \u001b[36m__main__\u001b[0m:\u001b[36mlog_system_usage\u001b[0m:\u001b[36m5\u001b[0m - \u001b[1m💾 CPU Usage: 13.1%, Memory Usage: 13.7%\u001b[0m\n"
          ]
        },
        {
          "output_type": "stream",
          "name": "stdout",
          "text": [
            "INFO:     103.141.47.104:0 - \"POST /predict HTTP/1.1\" 200 OK\n"
          ]
        },
        {
          "output_type": "stream",
          "name": "stderr",
          "text": [
            "\u001b[32m2025-03-23 17:45:03.333\u001b[0m | \u001b[1mINFO    \u001b[0m | \u001b[36m__main__\u001b[0m:\u001b[36mpredict\u001b[0m:\u001b[36m4\u001b[0m - \u001b[1m📥 Request dari 103.141.47.104 - Upload file: mixed limbah.jpg\u001b[0m\n",
            "\u001b[32m2025-03-23 17:45:03.409\u001b[0m | \u001b[1mINFO    \u001b[0m | \u001b[36m__main__\u001b[0m:\u001b[36mpredict\u001b[0m:\u001b[36m30\u001b[0m - \u001b[1m✅ Prediksi: Anorganik, Confidence: 0.9831, Waktu Response: 0.0756 detik\u001b[0m\n",
            "\u001b[32m2025-03-23 17:45:03.411\u001b[0m | \u001b[1mINFO    \u001b[0m | \u001b[36m__main__\u001b[0m:\u001b[36mlog_system_usage\u001b[0m:\u001b[36m5\u001b[0m - \u001b[1m💾 CPU Usage: 13.8%, Memory Usage: 13.7%\u001b[0m\n"
          ]
        },
        {
          "output_type": "stream",
          "name": "stdout",
          "text": [
            "INFO:     103.141.47.104:0 - \"POST /predict HTTP/1.1\" 200 OK\n"
          ]
        },
        {
          "output_type": "stream",
          "name": "stderr",
          "text": [
            "\u001b[32m2025-03-23 17:45:07.876\u001b[0m | \u001b[1mINFO    \u001b[0m | \u001b[36m__main__\u001b[0m:\u001b[36mpredict\u001b[0m:\u001b[36m4\u001b[0m - \u001b[1m📥 Request dari 103.141.47.104 - Upload file: mixed limbah.jpg\u001b[0m\n",
            "\u001b[32m2025-03-23 17:45:07.917\u001b[0m | \u001b[1mINFO    \u001b[0m | \u001b[36m__main__\u001b[0m:\u001b[36mpredict\u001b[0m:\u001b[36m30\u001b[0m - \u001b[1m✅ Prediksi: Anorganik, Confidence: 0.9831, Waktu Response: 0.0402 detik\u001b[0m\n",
            "\u001b[32m2025-03-23 17:45:07.918\u001b[0m | \u001b[1mINFO    \u001b[0m | \u001b[36m__main__\u001b[0m:\u001b[36mlog_system_usage\u001b[0m:\u001b[36m5\u001b[0m - \u001b[1m💾 CPU Usage: 26.8%, Memory Usage: 13.9%\u001b[0m\n"
          ]
        },
        {
          "output_type": "stream",
          "name": "stdout",
          "text": [
            "INFO:     103.141.47.104:0 - \"POST /predict HTTP/1.1\" 200 OK\n"
          ]
        },
        {
          "output_type": "stream",
          "name": "stderr",
          "text": [
            "\u001b[32m2025-03-23 17:48:59.040\u001b[0m | \u001b[1mINFO    \u001b[0m | \u001b[36m__main__\u001b[0m:\u001b[36mpredict\u001b[0m:\u001b[36m4\u001b[0m - \u001b[1m📥 Request dari 103.141.47.104 - Upload file: mixed limbah.jpg\u001b[0m\n",
            "\u001b[32m2025-03-23 17:48:59.106\u001b[0m | \u001b[1mINFO    \u001b[0m | \u001b[36m__main__\u001b[0m:\u001b[36mpredict\u001b[0m:\u001b[36m30\u001b[0m - \u001b[1m✅ Prediksi: Anorganik, Confidence: 0.9831, Waktu Response: 0.0665 detik\u001b[0m\n",
            "\u001b[32m2025-03-23 17:48:59.109\u001b[0m | \u001b[1mINFO    \u001b[0m | \u001b[36m__main__\u001b[0m:\u001b[36mlog_system_usage\u001b[0m:\u001b[36m5\u001b[0m - \u001b[1m💾 CPU Usage: 12.9%, Memory Usage: 13.7%\u001b[0m\n"
          ]
        },
        {
          "output_type": "stream",
          "name": "stdout",
          "text": [
            "INFO:     103.141.47.104:0 - \"POST /predict HTTP/1.1\" 200 OK\n"
          ]
        },
        {
          "output_type": "stream",
          "name": "stderr",
          "text": [
            "\u001b[32m2025-03-23 17:49:15.319\u001b[0m | \u001b[1mINFO    \u001b[0m | \u001b[36m__main__\u001b[0m:\u001b[36mpredict\u001b[0m:\u001b[36m4\u001b[0m - \u001b[1m📥 Request dari 103.141.47.104 - Upload file: mixed limbah.jpg\u001b[0m\n",
            "\u001b[32m2025-03-23 17:49:15.361\u001b[0m | \u001b[1mINFO    \u001b[0m | \u001b[36m__main__\u001b[0m:\u001b[36mpredict\u001b[0m:\u001b[36m30\u001b[0m - \u001b[1m✅ Prediksi: Anorganik, Confidence: 0.9831, Waktu Response: 0.0422 detik\u001b[0m\n",
            "\u001b[32m2025-03-23 17:49:15.362\u001b[0m | \u001b[1mINFO    \u001b[0m | \u001b[36m__main__\u001b[0m:\u001b[36mlog_system_usage\u001b[0m:\u001b[36m5\u001b[0m - \u001b[1m💾 CPU Usage: 18.8%, Memory Usage: 13.8%\u001b[0m\n"
          ]
        },
        {
          "output_type": "stream",
          "name": "stdout",
          "text": [
            "INFO:     103.141.47.104:0 - \"POST /predict HTTP/1.1\" 200 OK\n"
          ]
        },
        {
          "output_type": "stream",
          "name": "stderr",
          "text": [
            "\u001b[32m2025-03-23 17:49:17.826\u001b[0m | \u001b[1mINFO    \u001b[0m | \u001b[36m__main__\u001b[0m:\u001b[36mpredict\u001b[0m:\u001b[36m4\u001b[0m - \u001b[1m📥 Request dari 103.141.47.104 - Upload file: mixed limbah.jpg\u001b[0m\n",
            "\u001b[32m2025-03-23 17:49:17.867\u001b[0m | \u001b[1mINFO    \u001b[0m | \u001b[36m__main__\u001b[0m:\u001b[36mpredict\u001b[0m:\u001b[36m30\u001b[0m - \u001b[1m✅ Prediksi: Anorganik, Confidence: 0.9831, Waktu Response: 0.0419 detik\u001b[0m\n",
            "\u001b[32m2025-03-23 17:49:17.869\u001b[0m | \u001b[1mINFO    \u001b[0m | \u001b[36m__main__\u001b[0m:\u001b[36mlog_system_usage\u001b[0m:\u001b[36m5\u001b[0m - \u001b[1m💾 CPU Usage: 4.4%, Memory Usage: 13.8%\u001b[0m\n"
          ]
        },
        {
          "output_type": "stream",
          "name": "stdout",
          "text": [
            "INFO:     103.141.47.104:0 - \"POST /predict HTTP/1.1\" 200 OK\n",
            "Keeping Colab alive...\n"
          ]
        },
        {
          "output_type": "stream",
          "name": "stderr",
          "text": [
            "\u001b[32m2025-03-23 17:52:01.950\u001b[0m | \u001b[1mINFO    \u001b[0m | \u001b[36m__main__\u001b[0m:\u001b[36mpredict\u001b[0m:\u001b[36m4\u001b[0m - \u001b[1m📥 Request dari 103.141.47.104 - Upload file: mixed limbah.jpg\u001b[0m\n",
            "\u001b[32m2025-03-23 17:52:01.995\u001b[0m | \u001b[1mINFO    \u001b[0m | \u001b[36m__main__\u001b[0m:\u001b[36mpredict\u001b[0m:\u001b[36m30\u001b[0m - \u001b[1m✅ Prediksi: Anorganik, Confidence: 0.9831, Waktu Response: 0.0450 detik\u001b[0m\n",
            "\u001b[32m2025-03-23 17:52:01.996\u001b[0m | \u001b[1mINFO    \u001b[0m | \u001b[36m__main__\u001b[0m:\u001b[36mlog_system_usage\u001b[0m:\u001b[36m5\u001b[0m - \u001b[1m💾 CPU Usage: 13.0%, Memory Usage: 13.8%\u001b[0m\n"
          ]
        },
        {
          "output_type": "stream",
          "name": "stdout",
          "text": [
            "INFO:     103.141.47.104:0 - \"POST /predict HTTP/1.1\" 200 OK\n"
          ]
        },
        {
          "output_type": "stream",
          "name": "stderr",
          "text": [
            "\u001b[32m2025-03-23 17:52:04.227\u001b[0m | \u001b[1mINFO    \u001b[0m | \u001b[36m__main__\u001b[0m:\u001b[36mpredict\u001b[0m:\u001b[36m4\u001b[0m - \u001b[1m📥 Request dari 103.141.47.104 - Upload file: mixed limbah.jpg\u001b[0m\n",
            "\u001b[32m2025-03-23 17:52:04.271\u001b[0m | \u001b[1mINFO    \u001b[0m | \u001b[36m__main__\u001b[0m:\u001b[36mpredict\u001b[0m:\u001b[36m30\u001b[0m - \u001b[1m✅ Prediksi: Anorganik, Confidence: 0.9831, Waktu Response: 0.0440 detik\u001b[0m\n",
            "\u001b[32m2025-03-23 17:52:04.272\u001b[0m | \u001b[1mINFO    \u001b[0m | \u001b[36m__main__\u001b[0m:\u001b[36mlog_system_usage\u001b[0m:\u001b[36m5\u001b[0m - \u001b[1m💾 CPU Usage: 4.4%, Memory Usage: 13.8%\u001b[0m\n"
          ]
        },
        {
          "output_type": "stream",
          "name": "stdout",
          "text": [
            "INFO:     103.141.47.104:0 - \"POST /predict HTTP/1.1\" 200 OK\n"
          ]
        },
        {
          "output_type": "stream",
          "name": "stderr",
          "text": [
            "\u001b[32m2025-03-23 17:52:08.303\u001b[0m | \u001b[1mINFO    \u001b[0m | \u001b[36m__main__\u001b[0m:\u001b[36mpredict\u001b[0m:\u001b[36m4\u001b[0m - \u001b[1m📥 Request dari 103.141.47.104 - Upload file: mixed limbah.jpg\u001b[0m\n",
            "\u001b[32m2025-03-23 17:52:08.350\u001b[0m | \u001b[1mINFO    \u001b[0m | \u001b[36m__main__\u001b[0m:\u001b[36mpredict\u001b[0m:\u001b[36m30\u001b[0m - \u001b[1m✅ Prediksi: Anorganik, Confidence: 0.9831, Waktu Response: 0.0466 detik\u001b[0m\n",
            "\u001b[32m2025-03-23 17:52:08.351\u001b[0m | \u001b[1mINFO    \u001b[0m | \u001b[36m__main__\u001b[0m:\u001b[36mlog_system_usage\u001b[0m:\u001b[36m5\u001b[0m - \u001b[1m💾 CPU Usage: 35.3%, Memory Usage: 13.6%\u001b[0m\n"
          ]
        },
        {
          "output_type": "stream",
          "name": "stdout",
          "text": [
            "INFO:     103.141.47.104:0 - \"POST /predict HTTP/1.1\" 200 OK\n"
          ]
        },
        {
          "output_type": "stream",
          "name": "stderr",
          "text": [
            "\u001b[32m2025-03-23 17:53:10.386\u001b[0m | \u001b[1mINFO    \u001b[0m | \u001b[36m__main__\u001b[0m:\u001b[36mpredict\u001b[0m:\u001b[36m4\u001b[0m - \u001b[1m📥 Request dari 103.141.47.104 - Upload file: mixed limbah.jpg\u001b[0m\n",
            "\u001b[32m2025-03-23 17:53:10.430\u001b[0m | \u001b[1mINFO    \u001b[0m | \u001b[36m__main__\u001b[0m:\u001b[36mpredict\u001b[0m:\u001b[36m30\u001b[0m - \u001b[1m✅ Prediksi: Anorganik, Confidence: 0.9831, Waktu Response: 0.0439 detik\u001b[0m\n",
            "\u001b[32m2025-03-23 17:53:10.431\u001b[0m | \u001b[1mINFO    \u001b[0m | \u001b[36m__main__\u001b[0m:\u001b[36mlog_system_usage\u001b[0m:\u001b[36m5\u001b[0m - \u001b[1m💾 CPU Usage: 13.5%, Memory Usage: 13.8%\u001b[0m\n"
          ]
        },
        {
          "output_type": "stream",
          "name": "stdout",
          "text": [
            "INFO:     103.141.47.104:0 - \"POST /predict HTTP/1.1\" 200 OK\n"
          ]
        },
        {
          "output_type": "stream",
          "name": "stderr",
          "text": [
            "\u001b[32m2025-03-23 17:53:13.088\u001b[0m | \u001b[1mINFO    \u001b[0m | \u001b[36m__main__\u001b[0m:\u001b[36mpredict\u001b[0m:\u001b[36m4\u001b[0m - \u001b[1m📥 Request dari 103.141.47.104 - Upload file: mixed limbah.jpg\u001b[0m\n",
            "\u001b[32m2025-03-23 17:53:13.132\u001b[0m | \u001b[1mINFO    \u001b[0m | \u001b[36m__main__\u001b[0m:\u001b[36mpredict\u001b[0m:\u001b[36m30\u001b[0m - \u001b[1m✅ Prediksi: Anorganik, Confidence: 0.9831, Waktu Response: 0.0439 detik\u001b[0m\n",
            "\u001b[32m2025-03-23 17:53:13.134\u001b[0m | \u001b[1mINFO    \u001b[0m | \u001b[36m__main__\u001b[0m:\u001b[36mlog_system_usage\u001b[0m:\u001b[36m5\u001b[0m - \u001b[1m💾 CPU Usage: 4.5%, Memory Usage: 13.8%\u001b[0m\n"
          ]
        },
        {
          "output_type": "stream",
          "name": "stdout",
          "text": [
            "INFO:     103.141.47.104:0 - \"POST /predict HTTP/1.1\" 200 OK\n"
          ]
        },
        {
          "output_type": "stream",
          "name": "stderr",
          "text": [
            "\u001b[32m2025-03-23 17:53:14.937\u001b[0m | \u001b[1mINFO    \u001b[0m | \u001b[36m__main__\u001b[0m:\u001b[36mpredict\u001b[0m:\u001b[36m4\u001b[0m - \u001b[1m📥 Request dari 103.141.47.104 - Upload file: mixed limbah.jpg\u001b[0m\n",
            "\u001b[32m2025-03-23 17:53:14.981\u001b[0m | \u001b[1mINFO    \u001b[0m | \u001b[36m__main__\u001b[0m:\u001b[36mpredict\u001b[0m:\u001b[36m30\u001b[0m - \u001b[1m✅ Prediksi: Anorganik, Confidence: 0.9831, Waktu Response: 0.0432 detik\u001b[0m\n",
            "\u001b[32m2025-03-23 17:53:14.982\u001b[0m | \u001b[1mINFO    \u001b[0m | \u001b[36m__main__\u001b[0m:\u001b[36mlog_system_usage\u001b[0m:\u001b[36m5\u001b[0m - \u001b[1m💾 CPU Usage: 5.4%, Memory Usage: 13.8%\u001b[0m\n"
          ]
        },
        {
          "output_type": "stream",
          "name": "stdout",
          "text": [
            "INFO:     103.141.47.104:0 - \"POST /predict HTTP/1.1\" 200 OK\n"
          ]
        },
        {
          "output_type": "stream",
          "name": "stderr",
          "text": [
            "\u001b[32m2025-03-23 17:53:17.002\u001b[0m | \u001b[1mINFO    \u001b[0m | \u001b[36m__main__\u001b[0m:\u001b[36mpredict\u001b[0m:\u001b[36m4\u001b[0m - \u001b[1m📥 Request dari 103.141.47.104 - Upload file: mixed limbah.jpg\u001b[0m\n",
            "\u001b[32m2025-03-23 17:53:17.044\u001b[0m | \u001b[1mINFO    \u001b[0m | \u001b[36m__main__\u001b[0m:\u001b[36mpredict\u001b[0m:\u001b[36m30\u001b[0m - \u001b[1m✅ Prediksi: Anorganik, Confidence: 0.9831, Waktu Response: 0.0425 detik\u001b[0m\n",
            "\u001b[32m2025-03-23 17:53:17.046\u001b[0m | \u001b[1mINFO    \u001b[0m | \u001b[36m__main__\u001b[0m:\u001b[36mlog_system_usage\u001b[0m:\u001b[36m5\u001b[0m - \u001b[1m💾 CPU Usage: 5.1%, Memory Usage: 13.8%\u001b[0m\n"
          ]
        },
        {
          "output_type": "stream",
          "name": "stdout",
          "text": [
            "INFO:     103.141.47.104:0 - \"POST /predict HTTP/1.1\" 200 OK\n"
          ]
        },
        {
          "output_type": "stream",
          "name": "stderr",
          "text": [
            "\u001b[32m2025-03-23 17:53:19.223\u001b[0m | \u001b[1mINFO    \u001b[0m | \u001b[36m__main__\u001b[0m:\u001b[36mpredict\u001b[0m:\u001b[36m4\u001b[0m - \u001b[1m📥 Request dari 103.141.47.104 - Upload file: mixed limbah.jpg\u001b[0m\n",
            "\u001b[32m2025-03-23 17:53:19.264\u001b[0m | \u001b[1mINFO    \u001b[0m | \u001b[36m__main__\u001b[0m:\u001b[36mpredict\u001b[0m:\u001b[36m30\u001b[0m - \u001b[1m✅ Prediksi: Anorganik, Confidence: 0.9831, Waktu Response: 0.0412 detik\u001b[0m\n",
            "\u001b[32m2025-03-23 17:53:19.265\u001b[0m | \u001b[1mINFO    \u001b[0m | \u001b[36m__main__\u001b[0m:\u001b[36mlog_system_usage\u001b[0m:\u001b[36m5\u001b[0m - \u001b[1m💾 CPU Usage: 4.9%, Memory Usage: 13.8%\u001b[0m\n"
          ]
        },
        {
          "output_type": "stream",
          "name": "stdout",
          "text": [
            "INFO:     103.141.47.104:0 - \"POST /predict HTTP/1.1\" 200 OK\n"
          ]
        },
        {
          "output_type": "stream",
          "name": "stderr",
          "text": [
            "\u001b[32m2025-03-23 17:53:21.772\u001b[0m | \u001b[1mINFO    \u001b[0m | \u001b[36m__main__\u001b[0m:\u001b[36mpredict\u001b[0m:\u001b[36m4\u001b[0m - \u001b[1m📥 Request dari 103.141.47.104 - Upload file: mixed limbah.jpg\u001b[0m\n",
            "\u001b[32m2025-03-23 17:53:21.838\u001b[0m | \u001b[1mINFO    \u001b[0m | \u001b[36m__main__\u001b[0m:\u001b[36mpredict\u001b[0m:\u001b[36m30\u001b[0m - \u001b[1m✅ Prediksi: Anorganik, Confidence: 0.9831, Waktu Response: 0.0654 detik\u001b[0m\n",
            "\u001b[32m2025-03-23 17:53:21.840\u001b[0m | \u001b[1mINFO    \u001b[0m | \u001b[36m__main__\u001b[0m:\u001b[36mlog_system_usage\u001b[0m:\u001b[36m5\u001b[0m - \u001b[1m💾 CPU Usage: 46.0%, Memory Usage: 13.6%\u001b[0m\n"
          ]
        },
        {
          "output_type": "stream",
          "name": "stdout",
          "text": [
            "INFO:     103.141.47.104:0 - \"POST /predict HTTP/1.1\" 200 OK\n"
          ]
        },
        {
          "output_type": "stream",
          "name": "stderr",
          "text": [
            "\u001b[32m2025-03-23 17:57:25.927\u001b[0m | \u001b[1mINFO    \u001b[0m | \u001b[36m__main__\u001b[0m:\u001b[36mpredict\u001b[0m:\u001b[36m4\u001b[0m - \u001b[1m📥 Request dari 103.141.47.104 - Upload file: mixed limbah.jpg\u001b[0m\n",
            "\u001b[32m2025-03-23 17:57:25.970\u001b[0m | \u001b[1mINFO    \u001b[0m | \u001b[36m__main__\u001b[0m:\u001b[36mpredict\u001b[0m:\u001b[36m30\u001b[0m - \u001b[1m✅ Prediksi: Anorganik, Confidence: 0.9831, Waktu Response: 0.0439 detik\u001b[0m\n",
            "\u001b[32m2025-03-23 17:57:25.972\u001b[0m | \u001b[1mINFO    \u001b[0m | \u001b[36m__main__\u001b[0m:\u001b[36mlog_system_usage\u001b[0m:\u001b[36m5\u001b[0m - \u001b[1m💾 CPU Usage: 13.0%, Memory Usage: 13.9%\u001b[0m\n"
          ]
        },
        {
          "output_type": "stream",
          "name": "stdout",
          "text": [
            "INFO:     103.141.47.104:0 - \"POST /predict HTTP/1.1\" 200 OK\n"
          ]
        },
        {
          "output_type": "stream",
          "name": "stderr",
          "text": [
            "\u001b[32m2025-03-23 17:57:28.779\u001b[0m | \u001b[1mINFO    \u001b[0m | \u001b[36m__main__\u001b[0m:\u001b[36mpredict\u001b[0m:\u001b[36m4\u001b[0m - \u001b[1m📥 Request dari 103.141.47.104 - Upload file: mixed limbah.jpg\u001b[0m\n",
            "\u001b[32m2025-03-23 17:57:28.849\u001b[0m | \u001b[1mINFO    \u001b[0m | \u001b[36m__main__\u001b[0m:\u001b[36mpredict\u001b[0m:\u001b[36m30\u001b[0m - \u001b[1m✅ Prediksi: Anorganik, Confidence: 0.9831, Waktu Response: 0.0695 detik\u001b[0m\n",
            "\u001b[32m2025-03-23 17:57:28.850\u001b[0m | \u001b[1mINFO    \u001b[0m | \u001b[36m__main__\u001b[0m:\u001b[36mlog_system_usage\u001b[0m:\u001b[36m5\u001b[0m - \u001b[1m💾 CPU Usage: 15.7%, Memory Usage: 13.5%\u001b[0m\n"
          ]
        },
        {
          "output_type": "stream",
          "name": "stdout",
          "text": [
            "INFO:     103.141.47.104:0 - \"POST /predict HTTP/1.1\" 200 OK\n"
          ]
        },
        {
          "output_type": "stream",
          "name": "stderr",
          "text": [
            "\u001b[32m2025-03-23 17:57:30.616\u001b[0m | \u001b[1mINFO    \u001b[0m | \u001b[36m__main__\u001b[0m:\u001b[36mpredict\u001b[0m:\u001b[36m4\u001b[0m - \u001b[1m📥 Request dari 103.141.47.104 - Upload file: mixed limbah.jpg\u001b[0m\n",
            "\u001b[32m2025-03-23 17:57:30.680\u001b[0m | \u001b[1mINFO    \u001b[0m | \u001b[36m__main__\u001b[0m:\u001b[36mpredict\u001b[0m:\u001b[36m30\u001b[0m - \u001b[1m✅ Prediksi: Anorganik, Confidence: 0.9831, Waktu Response: 0.0635 detik\u001b[0m\n",
            "\u001b[32m2025-03-23 17:57:30.681\u001b[0m | \u001b[1mINFO    \u001b[0m | \u001b[36m__main__\u001b[0m:\u001b[36mlog_system_usage\u001b[0m:\u001b[36m5\u001b[0m - \u001b[1m💾 CPU Usage: 59.3%, Memory Usage: 13.9%\u001b[0m\n"
          ]
        },
        {
          "output_type": "stream",
          "name": "stdout",
          "text": [
            "INFO:     103.141.47.104:0 - \"POST /predict HTTP/1.1\" 200 OK\n"
          ]
        },
        {
          "output_type": "stream",
          "name": "stderr",
          "text": [
            "\u001b[32m2025-03-23 17:57:32.743\u001b[0m | \u001b[1mINFO    \u001b[0m | \u001b[36m__main__\u001b[0m:\u001b[36mpredict\u001b[0m:\u001b[36m4\u001b[0m - \u001b[1m📥 Request dari 103.141.47.104 - Upload file: mixed limbah.jpg\u001b[0m\n",
            "\u001b[32m2025-03-23 17:57:32.788\u001b[0m | \u001b[1mINFO    \u001b[0m | \u001b[36m__main__\u001b[0m:\u001b[36mpredict\u001b[0m:\u001b[36m30\u001b[0m - \u001b[1m✅ Prediksi: Anorganik, Confidence: 0.9831, Waktu Response: 0.0443 detik\u001b[0m\n",
            "\u001b[32m2025-03-23 17:57:32.789\u001b[0m | \u001b[1mINFO    \u001b[0m | \u001b[36m__main__\u001b[0m:\u001b[36mlog_system_usage\u001b[0m:\u001b[36m5\u001b[0m - \u001b[1m💾 CPU Usage: 6.9%, Memory Usage: 13.9%\u001b[0m\n"
          ]
        },
        {
          "output_type": "stream",
          "name": "stdout",
          "text": [
            "INFO:     103.141.47.104:0 - \"POST /predict HTTP/1.1\" 200 OK\n"
          ]
        },
        {
          "output_type": "stream",
          "name": "stderr",
          "text": [
            "\u001b[32m2025-03-23 17:58:48.712\u001b[0m | \u001b[1mINFO    \u001b[0m | \u001b[36m__main__\u001b[0m:\u001b[36mpredict\u001b[0m:\u001b[36m4\u001b[0m - \u001b[1m📥 Request dari 103.141.47.104 - Upload file: mixed limbah.jpg\u001b[0m\n",
            "\u001b[32m2025-03-23 17:58:48.756\u001b[0m | \u001b[1mINFO    \u001b[0m | \u001b[36m__main__\u001b[0m:\u001b[36mpredict\u001b[0m:\u001b[36m30\u001b[0m - \u001b[1m✅ Prediksi: Anorganik, Confidence: 0.9831, Waktu Response: 0.0436 detik\u001b[0m\n",
            "\u001b[32m2025-03-23 17:58:48.757\u001b[0m | \u001b[1mINFO    \u001b[0m | \u001b[36m__main__\u001b[0m:\u001b[36mlog_system_usage\u001b[0m:\u001b[36m5\u001b[0m - \u001b[1m💾 CPU Usage: 13.1%, Memory Usage: 13.7%\u001b[0m\n"
          ]
        },
        {
          "output_type": "stream",
          "name": "stdout",
          "text": [
            "INFO:     103.141.47.104:0 - \"POST /predict HTTP/1.1\" 200 OK\n"
          ]
        },
        {
          "output_type": "stream",
          "name": "stderr",
          "text": [
            "\u001b[32m2025-03-23 17:59:18.176\u001b[0m | \u001b[1mINFO    \u001b[0m | \u001b[36m__main__\u001b[0m:\u001b[36mpredict\u001b[0m:\u001b[36m4\u001b[0m - \u001b[1m📥 Request dari 103.141.47.104 - Upload file: mixed limbah.jpg\u001b[0m\n",
            "\u001b[32m2025-03-23 17:59:18.217\u001b[0m | \u001b[1mINFO    \u001b[0m | \u001b[36m__main__\u001b[0m:\u001b[36mpredict\u001b[0m:\u001b[36m30\u001b[0m - \u001b[1m✅ Prediksi: Anorganik, Confidence: 0.9831, Waktu Response: 0.0404 detik\u001b[0m\n",
            "\u001b[32m2025-03-23 17:59:18.218\u001b[0m | \u001b[1mINFO    \u001b[0m | \u001b[36m__main__\u001b[0m:\u001b[36mlog_system_usage\u001b[0m:\u001b[36m5\u001b[0m - \u001b[1m💾 CPU Usage: 11.7%, Memory Usage: 13.7%\u001b[0m\n"
          ]
        },
        {
          "output_type": "stream",
          "name": "stdout",
          "text": [
            "INFO:     103.141.47.104:0 - \"POST /predict HTTP/1.1\" 200 OK\n"
          ]
        },
        {
          "output_type": "stream",
          "name": "stderr",
          "text": [
            "\u001b[32m2025-03-23 17:59:22.346\u001b[0m | \u001b[1mINFO    \u001b[0m | \u001b[36m__main__\u001b[0m:\u001b[36mpredict\u001b[0m:\u001b[36m4\u001b[0m - \u001b[1m📥 Request dari 103.141.47.104 - Upload file: mixed limbah.jpg\u001b[0m\n",
            "\u001b[32m2025-03-23 17:59:22.419\u001b[0m | \u001b[1mINFO    \u001b[0m | \u001b[36m__main__\u001b[0m:\u001b[36mpredict\u001b[0m:\u001b[36m30\u001b[0m - \u001b[1m✅ Prediksi: Anorganik, Confidence: 0.9831, Waktu Response: 0.0729 detik\u001b[0m\n",
            "\u001b[32m2025-03-23 17:59:22.422\u001b[0m | \u001b[1mINFO    \u001b[0m | \u001b[36m__main__\u001b[0m:\u001b[36mlog_system_usage\u001b[0m:\u001b[36m5\u001b[0m - \u001b[1m💾 CPU Usage: 32.8%, Memory Usage: 13.9%\u001b[0m\n"
          ]
        },
        {
          "output_type": "stream",
          "name": "stdout",
          "text": [
            "INFO:     103.141.47.104:0 - \"POST /predict HTTP/1.1\" 200 OK\n",
            "Keeping Colab alive...\n"
          ]
        },
        {
          "output_type": "stream",
          "name": "stderr",
          "text": [
            "\u001b[32m2025-03-23 17:59:52.929\u001b[0m | \u001b[1mINFO    \u001b[0m | \u001b[36m__main__\u001b[0m:\u001b[36mpredict\u001b[0m:\u001b[36m4\u001b[0m - \u001b[1m📥 Request dari 103.141.47.104 - Upload file: mixed limbah.jpg\u001b[0m\n",
            "\u001b[32m2025-03-23 17:59:52.971\u001b[0m | \u001b[1mINFO    \u001b[0m | \u001b[36m__main__\u001b[0m:\u001b[36mpredict\u001b[0m:\u001b[36m30\u001b[0m - \u001b[1m✅ Prediksi: Anorganik, Confidence: 0.9831, Waktu Response: 0.0422 detik\u001b[0m\n",
            "\u001b[32m2025-03-23 17:59:52.973\u001b[0m | \u001b[1mINFO    \u001b[0m | \u001b[36m__main__\u001b[0m:\u001b[36mlog_system_usage\u001b[0m:\u001b[36m5\u001b[0m - \u001b[1m💾 CPU Usage: 11.9%, Memory Usage: 13.7%\u001b[0m\n"
          ]
        },
        {
          "output_type": "stream",
          "name": "stdout",
          "text": [
            "INFO:     103.141.47.104:0 - \"POST /predict HTTP/1.1\" 200 OK\n"
          ]
        },
        {
          "output_type": "stream",
          "name": "stderr",
          "text": [
            "\u001b[32m2025-03-23 17:59:55.229\u001b[0m | \u001b[1mINFO    \u001b[0m | \u001b[36m__main__\u001b[0m:\u001b[36mpredict\u001b[0m:\u001b[36m4\u001b[0m - \u001b[1m📥 Request dari 103.141.47.104 - Upload file: mixed limbah.jpg\u001b[0m\n",
            "\u001b[32m2025-03-23 17:59:55.269\u001b[0m | \u001b[1mINFO    \u001b[0m | \u001b[36m__main__\u001b[0m:\u001b[36mpredict\u001b[0m:\u001b[36m30\u001b[0m - \u001b[1m✅ Prediksi: Anorganik, Confidence: 0.9831, Waktu Response: 0.0402 detik\u001b[0m\n",
            "\u001b[32m2025-03-23 17:59:55.271\u001b[0m | \u001b[1mINFO    \u001b[0m | \u001b[36m__main__\u001b[0m:\u001b[36mlog_system_usage\u001b[0m:\u001b[36m5\u001b[0m - \u001b[1m💾 CPU Usage: 4.6%, Memory Usage: 13.7%\u001b[0m\n"
          ]
        },
        {
          "output_type": "stream",
          "name": "stdout",
          "text": [
            "INFO:     103.141.47.104:0 - \"POST /predict HTTP/1.1\" 200 OK\n"
          ]
        },
        {
          "output_type": "stream",
          "name": "stderr",
          "text": [
            "\u001b[32m2025-03-23 17:59:57.844\u001b[0m | \u001b[1mINFO    \u001b[0m | \u001b[36m__main__\u001b[0m:\u001b[36mpredict\u001b[0m:\u001b[36m4\u001b[0m - \u001b[1m📥 Request dari 103.141.47.104 - Upload file: mixed limbah.jpg\u001b[0m\n",
            "\u001b[32m2025-03-23 17:59:57.913\u001b[0m | \u001b[1mINFO    \u001b[0m | \u001b[36m__main__\u001b[0m:\u001b[36mpredict\u001b[0m:\u001b[36m30\u001b[0m - \u001b[1m✅ Prediksi: Anorganik, Confidence: 0.9831, Waktu Response: 0.0686 detik\u001b[0m\n",
            "\u001b[32m2025-03-23 17:59:57.917\u001b[0m | \u001b[1mINFO    \u001b[0m | \u001b[36m__main__\u001b[0m:\u001b[36mlog_system_usage\u001b[0m:\u001b[36m5\u001b[0m - \u001b[1m💾 CPU Usage: 13.1%, Memory Usage: 13.8%\u001b[0m\n"
          ]
        },
        {
          "output_type": "stream",
          "name": "stdout",
          "text": [
            "INFO:     103.141.47.104:0 - \"POST /predict HTTP/1.1\" 200 OK\n"
          ]
        },
        {
          "output_type": "stream",
          "name": "stderr",
          "text": [
            "\u001b[32m2025-03-23 18:00:00.451\u001b[0m | \u001b[1mINFO    \u001b[0m | \u001b[36m__main__\u001b[0m:\u001b[36mpredict\u001b[0m:\u001b[36m4\u001b[0m - \u001b[1m📥 Request dari 103.141.47.104 - Upload file: mixed limbah.jpg\u001b[0m\n",
            "\u001b[32m2025-03-23 18:00:00.503\u001b[0m | \u001b[1mINFO    \u001b[0m | \u001b[36m__main__\u001b[0m:\u001b[36mpredict\u001b[0m:\u001b[36m30\u001b[0m - \u001b[1m✅ Prediksi: Anorganik, Confidence: 0.9831, Waktu Response: 0.0521 detik\u001b[0m\n",
            "\u001b[32m2025-03-23 18:00:00.505\u001b[0m | \u001b[1mINFO    \u001b[0m | \u001b[36m__main__\u001b[0m:\u001b[36mlog_system_usage\u001b[0m:\u001b[36m5\u001b[0m - \u001b[1m💾 CPU Usage: 47.2%, Memory Usage: 13.9%\u001b[0m\n"
          ]
        },
        {
          "output_type": "stream",
          "name": "stdout",
          "text": [
            "INFO:     103.141.47.104:0 - \"POST /predict HTTP/1.1\" 200 OK\n"
          ]
        },
        {
          "output_type": "stream",
          "name": "stderr",
          "text": [
            "\u001b[32m2025-03-23 18:00:14.996\u001b[0m | \u001b[1mINFO    \u001b[0m | \u001b[36m__main__\u001b[0m:\u001b[36mpredict\u001b[0m:\u001b[36m4\u001b[0m - \u001b[1m📥 Request dari 103.141.47.104 - Upload file: mixed limbah.jpg\u001b[0m\n",
            "\u001b[32m2025-03-23 18:00:15.036\u001b[0m | \u001b[1mINFO    \u001b[0m | \u001b[36m__main__\u001b[0m:\u001b[36mpredict\u001b[0m:\u001b[36m30\u001b[0m - \u001b[1m✅ Prediksi: Anorganik, Confidence: 0.9831, Waktu Response: 0.0397 detik\u001b[0m\n",
            "\u001b[32m2025-03-23 18:00:15.037\u001b[0m | \u001b[1mINFO    \u001b[0m | \u001b[36m__main__\u001b[0m:\u001b[36mlog_system_usage\u001b[0m:\u001b[36m5\u001b[0m - \u001b[1m💾 CPU Usage: 12.5%, Memory Usage: 13.9%\u001b[0m\n"
          ]
        },
        {
          "output_type": "stream",
          "name": "stdout",
          "text": [
            "INFO:     103.141.47.104:0 - \"POST /predict HTTP/1.1\" 200 OK\n"
          ]
        },
        {
          "output_type": "stream",
          "name": "stderr",
          "text": [
            "\u001b[32m2025-03-23 18:00:39.070\u001b[0m | \u001b[1mINFO    \u001b[0m | \u001b[36m__main__\u001b[0m:\u001b[36mpredict\u001b[0m:\u001b[36m4\u001b[0m - \u001b[1m📥 Request dari 103.141.47.104 - Upload file: mixed limbah.jpg\u001b[0m\n",
            "\u001b[32m2025-03-23 18:00:39.116\u001b[0m | \u001b[1mINFO    \u001b[0m | \u001b[36m__main__\u001b[0m:\u001b[36mpredict\u001b[0m:\u001b[36m30\u001b[0m - \u001b[1m✅ Prediksi: Anorganik, Confidence: 0.9831, Waktu Response: 0.0455 detik\u001b[0m\n",
            "\u001b[32m2025-03-23 18:00:39.117\u001b[0m | \u001b[1mINFO    \u001b[0m | \u001b[36m__main__\u001b[0m:\u001b[36mlog_system_usage\u001b[0m:\u001b[36m5\u001b[0m - \u001b[1m💾 CPU Usage: 13.8%, Memory Usage: 13.8%\u001b[0m\n"
          ]
        },
        {
          "output_type": "stream",
          "name": "stdout",
          "text": [
            "INFO:     103.141.47.104:0 - \"POST /predict HTTP/1.1\" 200 OK\n"
          ]
        },
        {
          "output_type": "stream",
          "name": "stderr",
          "text": [
            "\u001b[32m2025-03-23 18:00:41.433\u001b[0m | \u001b[1mINFO    \u001b[0m | \u001b[36m__main__\u001b[0m:\u001b[36mpredict\u001b[0m:\u001b[36m4\u001b[0m - \u001b[1m📥 Request dari 103.141.47.104 - Upload file: mixed limbah.jpg\u001b[0m\n",
            "\u001b[32m2025-03-23 18:00:41.478\u001b[0m | \u001b[1mINFO    \u001b[0m | \u001b[36m__main__\u001b[0m:\u001b[36mpredict\u001b[0m:\u001b[36m30\u001b[0m - \u001b[1m✅ Prediksi: Anorganik, Confidence: 0.9831, Waktu Response: 0.0457 detik\u001b[0m\n",
            "\u001b[32m2025-03-23 18:00:41.480\u001b[0m | \u001b[1mINFO    \u001b[0m | \u001b[36m__main__\u001b[0m:\u001b[36mlog_system_usage\u001b[0m:\u001b[36m5\u001b[0m - \u001b[1m💾 CPU Usage: 5.3%, Memory Usage: 13.8%\u001b[0m\n"
          ]
        },
        {
          "output_type": "stream",
          "name": "stdout",
          "text": [
            "INFO:     103.141.47.104:0 - \"POST /predict HTTP/1.1\" 200 OK\n"
          ]
        },
        {
          "output_type": "stream",
          "name": "stderr",
          "text": [
            "\u001b[32m2025-03-23 18:00:43.377\u001b[0m | \u001b[1mINFO    \u001b[0m | \u001b[36m__main__\u001b[0m:\u001b[36mpredict\u001b[0m:\u001b[36m4\u001b[0m - \u001b[1m📥 Request dari 103.141.47.104 - Upload file: mixed limbah.jpg\u001b[0m\n",
            "\u001b[32m2025-03-23 18:00:43.423\u001b[0m | \u001b[1mINFO    \u001b[0m | \u001b[36m__main__\u001b[0m:\u001b[36mpredict\u001b[0m:\u001b[36m30\u001b[0m - \u001b[1m✅ Prediksi: Anorganik, Confidence: 0.9831, Waktu Response: 0.0460 detik\u001b[0m\n",
            "\u001b[32m2025-03-23 18:00:43.424\u001b[0m | \u001b[1mINFO    \u001b[0m | \u001b[36m__main__\u001b[0m:\u001b[36mlog_system_usage\u001b[0m:\u001b[36m5\u001b[0m - \u001b[1m💾 CPU Usage: 5.1%, Memory Usage: 13.5%\u001b[0m\n"
          ]
        },
        {
          "output_type": "stream",
          "name": "stdout",
          "text": [
            "INFO:     103.141.47.104:0 - \"POST /predict HTTP/1.1\" 200 OK\n",
            "Keeping Colab alive...\n"
          ]
        },
        {
          "output_type": "stream",
          "name": "stderr",
          "text": [
            "\u001b[32m2025-03-23 18:09:54.954\u001b[0m | \u001b[1mINFO    \u001b[0m | \u001b[36m__main__\u001b[0m:\u001b[36mpredict\u001b[0m:\u001b[36m4\u001b[0m - \u001b[1m📥 Request dari 103.141.47.104 - Upload file: mixed limbah.jpg\u001b[0m\n",
            "\u001b[32m2025-03-23 18:09:55.023\u001b[0m | \u001b[1mINFO    \u001b[0m | \u001b[36m__main__\u001b[0m:\u001b[36mpredict\u001b[0m:\u001b[36m30\u001b[0m - \u001b[1m✅ Prediksi: Anorganik, Confidence: 0.9831, Waktu Response: 0.0699 detik\u001b[0m\n",
            "\u001b[32m2025-03-23 18:09:55.025\u001b[0m | \u001b[1mINFO    \u001b[0m | \u001b[36m__main__\u001b[0m:\u001b[36mlog_system_usage\u001b[0m:\u001b[36m5\u001b[0m - \u001b[1m💾 CPU Usage: 13.2%, Memory Usage: 13.8%\u001b[0m\n"
          ]
        },
        {
          "output_type": "stream",
          "name": "stdout",
          "text": [
            "INFO:     103.141.47.104:0 - \"POST /predict HTTP/1.1\" 200 OK\n"
          ]
        },
        {
          "output_type": "stream",
          "name": "stderr",
          "text": [
            "\u001b[32m2025-03-23 18:13:19.847\u001b[0m | \u001b[1mINFO    \u001b[0m | \u001b[36m__main__\u001b[0m:\u001b[36mpredict\u001b[0m:\u001b[36m4\u001b[0m - \u001b[1m📥 Request dari 103.141.47.104 - Upload file: mixed limbah.jpg\u001b[0m\n",
            "\u001b[32m2025-03-23 18:13:19.890\u001b[0m | \u001b[1mINFO    \u001b[0m | \u001b[36m__main__\u001b[0m:\u001b[36mpredict\u001b[0m:\u001b[36m30\u001b[0m - \u001b[1m✅ Prediksi: Anorganik, Confidence: 0.9831, Waktu Response: 0.0437 detik\u001b[0m\n",
            "\u001b[32m2025-03-23 18:13:19.893\u001b[0m | \u001b[1mINFO    \u001b[0m | \u001b[36m__main__\u001b[0m:\u001b[36mlog_system_usage\u001b[0m:\u001b[36m5\u001b[0m - \u001b[1m💾 CPU Usage: 12.9%, Memory Usage: 13.6%\u001b[0m\n"
          ]
        },
        {
          "output_type": "stream",
          "name": "stdout",
          "text": [
            "INFO:     103.141.47.104:0 - \"POST /predict HTTP/1.1\" 200 OK\n"
          ]
        },
        {
          "output_type": "stream",
          "name": "stderr",
          "text": [
            "\u001b[32m2025-03-23 18:13:22.909\u001b[0m | \u001b[1mINFO    \u001b[0m | \u001b[36m__main__\u001b[0m:\u001b[36mpredict\u001b[0m:\u001b[36m4\u001b[0m - \u001b[1m📥 Request dari 103.141.47.104 - Upload file: mixed limbah.jpg\u001b[0m\n",
            "\u001b[32m2025-03-23 18:13:22.952\u001b[0m | \u001b[1mINFO    \u001b[0m | \u001b[36m__main__\u001b[0m:\u001b[36mpredict\u001b[0m:\u001b[36m30\u001b[0m - \u001b[1m✅ Prediksi: Anorganik, Confidence: 0.9831, Waktu Response: 0.0430 detik\u001b[0m\n",
            "\u001b[32m2025-03-23 18:13:22.953\u001b[0m | \u001b[1mINFO    \u001b[0m | \u001b[36m__main__\u001b[0m:\u001b[36mlog_system_usage\u001b[0m:\u001b[36m5\u001b[0m - \u001b[1m💾 CPU Usage: 4.2%, Memory Usage: 13.6%\u001b[0m\n"
          ]
        },
        {
          "output_type": "stream",
          "name": "stdout",
          "text": [
            "INFO:     103.141.47.104:0 - \"POST /predict HTTP/1.1\" 200 OK\n"
          ]
        },
        {
          "output_type": "stream",
          "name": "stderr",
          "text": [
            "\u001b[32m2025-03-23 18:13:38.909\u001b[0m | \u001b[1mINFO    \u001b[0m | \u001b[36m__main__\u001b[0m:\u001b[36mpredict\u001b[0m:\u001b[36m4\u001b[0m - \u001b[1m📥 Request dari 103.141.47.104 - Upload file: mixed limbah.jpg\u001b[0m\n",
            "\u001b[32m2025-03-23 18:13:38.953\u001b[0m | \u001b[1mINFO    \u001b[0m | \u001b[36m__main__\u001b[0m:\u001b[36mpredict\u001b[0m:\u001b[36m30\u001b[0m - \u001b[1m✅ Prediksi: Anorganik, Confidence: 0.9831, Waktu Response: 0.0446 detik\u001b[0m\n",
            "\u001b[32m2025-03-23 18:13:38.955\u001b[0m | \u001b[1mINFO    \u001b[0m | \u001b[36m__main__\u001b[0m:\u001b[36mlog_system_usage\u001b[0m:\u001b[36m5\u001b[0m - \u001b[1m💾 CPU Usage: 19.6%, Memory Usage: 13.8%\u001b[0m\n"
          ]
        },
        {
          "output_type": "stream",
          "name": "stdout",
          "text": [
            "INFO:     103.141.47.104:0 - \"POST /predict HTTP/1.1\" 200 OK\n"
          ]
        },
        {
          "output_type": "stream",
          "name": "stderr",
          "text": [
            "\u001b[32m2025-03-23 18:13:41.191\u001b[0m | \u001b[1mINFO    \u001b[0m | \u001b[36m__main__\u001b[0m:\u001b[36mpredict\u001b[0m:\u001b[36m4\u001b[0m - \u001b[1m📥 Request dari 103.141.47.104 - Upload file: mixed limbah.jpg\u001b[0m\n",
            "\u001b[32m2025-03-23 18:13:41.234\u001b[0m | \u001b[1mINFO    \u001b[0m | \u001b[36m__main__\u001b[0m:\u001b[36mpredict\u001b[0m:\u001b[36m30\u001b[0m - \u001b[1m✅ Prediksi: Anorganik, Confidence: 0.9831, Waktu Response: 0.0430 detik\u001b[0m\n",
            "\u001b[32m2025-03-23 18:13:41.235\u001b[0m | \u001b[1mINFO    \u001b[0m | \u001b[36m__main__\u001b[0m:\u001b[36mlog_system_usage\u001b[0m:\u001b[36m5\u001b[0m - \u001b[1m💾 CPU Usage: 5.1%, Memory Usage: 13.9%\u001b[0m\n"
          ]
        },
        {
          "output_type": "stream",
          "name": "stdout",
          "text": [
            "INFO:     103.141.47.104:0 - \"POST /predict HTTP/1.1\" 200 OK\n"
          ]
        },
        {
          "output_type": "stream",
          "name": "stderr",
          "text": [
            "\u001b[32m2025-03-23 18:13:43.671\u001b[0m | \u001b[1mINFO    \u001b[0m | \u001b[36m__main__\u001b[0m:\u001b[36mpredict\u001b[0m:\u001b[36m4\u001b[0m - \u001b[1m📥 Request dari 103.141.47.104 - Upload file: mixed limbah.jpg\u001b[0m\n",
            "\u001b[32m2025-03-23 18:13:43.713\u001b[0m | \u001b[1mINFO    \u001b[0m | \u001b[36m__main__\u001b[0m:\u001b[36mpredict\u001b[0m:\u001b[36m30\u001b[0m - \u001b[1m✅ Prediksi: Anorganik, Confidence: 0.9831, Waktu Response: 0.0426 detik\u001b[0m\n",
            "\u001b[32m2025-03-23 18:13:43.715\u001b[0m | \u001b[1mINFO    \u001b[0m | \u001b[36m__main__\u001b[0m:\u001b[36mlog_system_usage\u001b[0m:\u001b[36m5\u001b[0m - \u001b[1m💾 CPU Usage: 4.4%, Memory Usage: 13.9%\u001b[0m\n"
          ]
        },
        {
          "output_type": "stream",
          "name": "stdout",
          "text": [
            "INFO:     103.141.47.104:0 - \"POST /predict HTTP/1.1\" 200 OK\n",
            "Keeping Colab alive...\n"
          ]
        },
        {
          "output_type": "stream",
          "name": "stderr",
          "text": [
            "\u001b[32m2025-03-23 18:20:00.298\u001b[0m | \u001b[1mINFO    \u001b[0m | \u001b[36m__main__\u001b[0m:\u001b[36mpredict\u001b[0m:\u001b[36m4\u001b[0m - \u001b[1m📥 Request dari 103.141.47.104 - Upload file: mixed limbah.jpg\u001b[0m\n",
            "\u001b[32m2025-03-23 18:20:00.343\u001b[0m | \u001b[1mINFO    \u001b[0m | \u001b[36m__main__\u001b[0m:\u001b[36mpredict\u001b[0m:\u001b[36m30\u001b[0m - \u001b[1m✅ Prediksi: Anorganik, Confidence: 0.9831, Waktu Response: 0.0450 detik\u001b[0m\n",
            "\u001b[32m2025-03-23 18:20:00.345\u001b[0m | \u001b[1mINFO    \u001b[0m | \u001b[36m__main__\u001b[0m:\u001b[36mlog_system_usage\u001b[0m:\u001b[36m5\u001b[0m - \u001b[1m💾 CPU Usage: 13.2%, Memory Usage: 13.7%\u001b[0m\n"
          ]
        },
        {
          "output_type": "stream",
          "name": "stdout",
          "text": [
            "INFO:     103.141.47.104:0 - \"POST /predict HTTP/1.1\" 200 OK\n"
          ]
        },
        {
          "output_type": "stream",
          "name": "stderr",
          "text": [
            "\u001b[32m2025-03-23 18:20:24.364\u001b[0m | \u001b[1mINFO    \u001b[0m | \u001b[36m__main__\u001b[0m:\u001b[36mpredict\u001b[0m:\u001b[36m4\u001b[0m - \u001b[1m📥 Request dari 103.141.47.104 - Upload file: mixed limbah.jpg\u001b[0m\n",
            "\u001b[32m2025-03-23 18:20:24.408\u001b[0m | \u001b[1mINFO    \u001b[0m | \u001b[36m__main__\u001b[0m:\u001b[36mpredict\u001b[0m:\u001b[36m30\u001b[0m - \u001b[1m✅ Prediksi: Anorganik, Confidence: 0.9831, Waktu Response: 0.0443 detik\u001b[0m\n",
            "\u001b[32m2025-03-23 18:20:24.409\u001b[0m | \u001b[1mINFO    \u001b[0m | \u001b[36m__main__\u001b[0m:\u001b[36mlog_system_usage\u001b[0m:\u001b[36m5\u001b[0m - \u001b[1m💾 CPU Usage: 13.5%, Memory Usage: 13.8%\u001b[0m\n"
          ]
        },
        {
          "output_type": "stream",
          "name": "stdout",
          "text": [
            "INFO:     103.141.47.104:0 - \"POST /predict HTTP/1.1\" 200 OK\n"
          ]
        },
        {
          "output_type": "stream",
          "name": "stderr",
          "text": [
            "\u001b[32m2025-03-23 18:20:26.964\u001b[0m | \u001b[1mINFO    \u001b[0m | \u001b[36m__main__\u001b[0m:\u001b[36mpredict\u001b[0m:\u001b[36m4\u001b[0m - \u001b[1m📥 Request dari 103.141.47.104 - Upload file: mixed limbah.jpg\u001b[0m\n",
            "\u001b[32m2025-03-23 18:20:27.035\u001b[0m | \u001b[1mINFO    \u001b[0m | \u001b[36m__main__\u001b[0m:\u001b[36mpredict\u001b[0m:\u001b[36m30\u001b[0m - \u001b[1m✅ Prediksi: Anorganik, Confidence: 0.9831, Waktu Response: 0.0710 detik\u001b[0m\n",
            "\u001b[32m2025-03-23 18:20:27.037\u001b[0m | \u001b[1mINFO    \u001b[0m | \u001b[36m__main__\u001b[0m:\u001b[36mlog_system_usage\u001b[0m:\u001b[36m5\u001b[0m - \u001b[1m💾 CPU Usage: 14.9%, Memory Usage: 13.9%\u001b[0m\n"
          ]
        },
        {
          "output_type": "stream",
          "name": "stdout",
          "text": [
            "INFO:     103.141.47.104:0 - \"POST /predict HTTP/1.1\" 200 OK\n"
          ]
        },
        {
          "output_type": "stream",
          "name": "stderr",
          "text": [
            "\u001b[32m2025-03-23 18:20:28.906\u001b[0m | \u001b[1mINFO    \u001b[0m | \u001b[36m__main__\u001b[0m:\u001b[36mpredict\u001b[0m:\u001b[36m4\u001b[0m - \u001b[1m📥 Request dari 103.141.47.104 - Upload file: mixed limbah.jpg\u001b[0m\n",
            "\u001b[32m2025-03-23 18:20:28.976\u001b[0m | \u001b[1mINFO    \u001b[0m | \u001b[36m__main__\u001b[0m:\u001b[36mpredict\u001b[0m:\u001b[36m30\u001b[0m - \u001b[1m✅ Prediksi: Anorganik, Confidence: 0.9831, Waktu Response: 0.0700 detik\u001b[0m\n",
            "\u001b[32m2025-03-23 18:20:28.977\u001b[0m | \u001b[1mINFO    \u001b[0m | \u001b[36m__main__\u001b[0m:\u001b[36mlog_system_usage\u001b[0m:\u001b[36m5\u001b[0m - \u001b[1m💾 CPU Usage: 58.4%, Memory Usage: 13.9%\u001b[0m\n"
          ]
        },
        {
          "output_type": "stream",
          "name": "stdout",
          "text": [
            "INFO:     103.141.47.104:0 - \"POST /predict HTTP/1.1\" 200 OK\n"
          ]
        },
        {
          "output_type": "stream",
          "name": "stderr",
          "text": [
            "\u001b[32m2025-03-23 18:20:36.151\u001b[0m | \u001b[1mINFO    \u001b[0m | \u001b[36m__main__\u001b[0m:\u001b[36mpredict\u001b[0m:\u001b[36m4\u001b[0m - \u001b[1m📥 Request dari 103.141.47.104 - Upload file: mixed limbah.jpg\u001b[0m\n",
            "\u001b[32m2025-03-23 18:20:36.195\u001b[0m | \u001b[1mINFO    \u001b[0m | \u001b[36m__main__\u001b[0m:\u001b[36mpredict\u001b[0m:\u001b[36m30\u001b[0m - \u001b[1m✅ Prediksi: Anorganik, Confidence: 0.9831, Waktu Response: 0.0436 detik\u001b[0m\n",
            "\u001b[32m2025-03-23 18:20:36.196\u001b[0m | \u001b[1mINFO    \u001b[0m | \u001b[36m__main__\u001b[0m:\u001b[36mlog_system_usage\u001b[0m:\u001b[36m5\u001b[0m - \u001b[1m💾 CPU Usage: 3.7%, Memory Usage: 13.9%\u001b[0m\n"
          ]
        },
        {
          "output_type": "stream",
          "name": "stdout",
          "text": [
            "INFO:     103.141.47.104:0 - \"POST /predict HTTP/1.1\" 200 OK\n",
            "Keeping Colab alive...\n",
            "Keeping Colab alive...\n"
          ]
        },
        {
          "output_type": "stream",
          "name": "stderr",
          "text": [
            "\u001b[32m2025-03-23 18:39:55.389\u001b[0m | \u001b[1mINFO    \u001b[0m | \u001b[36m__main__\u001b[0m:\u001b[36mpredict\u001b[0m:\u001b[36m4\u001b[0m - \u001b[1m📥 Request dari 103.141.47.104 - Upload file: mixed limbah.jpg\u001b[0m\n",
            "\u001b[32m2025-03-23 18:39:55.453\u001b[0m | \u001b[1mINFO    \u001b[0m | \u001b[36m__main__\u001b[0m:\u001b[36mpredict\u001b[0m:\u001b[36m30\u001b[0m - \u001b[1m✅ Prediksi: Anorganik, Confidence: 0.9831, Waktu Response: 0.0645 detik\u001b[0m\n",
            "\u001b[32m2025-03-23 18:39:55.455\u001b[0m | \u001b[1mINFO    \u001b[0m | \u001b[36m__main__\u001b[0m:\u001b[36mlog_system_usage\u001b[0m:\u001b[36m5\u001b[0m - \u001b[1m💾 CPU Usage: 13.2%, Memory Usage: 13.8%\u001b[0m\n"
          ]
        },
        {
          "output_type": "stream",
          "name": "stdout",
          "text": [
            "INFO:     103.141.47.104:0 - \"POST /predict HTTP/1.1\" 200 OK\n"
          ]
        },
        {
          "output_type": "stream",
          "name": "stderr",
          "text": [
            "\u001b[32m2025-03-23 18:39:59.725\u001b[0m | \u001b[1mINFO    \u001b[0m | \u001b[36m__main__\u001b[0m:\u001b[36mpredict\u001b[0m:\u001b[36m4\u001b[0m - \u001b[1m📥 Request dari 103.141.47.104 - Upload file: mixed limbah.jpg\u001b[0m\n",
            "\u001b[32m2025-03-23 18:39:59.766\u001b[0m | \u001b[1mINFO    \u001b[0m | \u001b[36m__main__\u001b[0m:\u001b[36mpredict\u001b[0m:\u001b[36m30\u001b[0m - \u001b[1m✅ Prediksi: Anorganik, Confidence: 0.9831, Waktu Response: 0.0419 detik\u001b[0m\n",
            "\u001b[32m2025-03-23 18:39:59.768\u001b[0m | \u001b[1mINFO    \u001b[0m | \u001b[36m__main__\u001b[0m:\u001b[36mlog_system_usage\u001b[0m:\u001b[36m5\u001b[0m - \u001b[1m💾 CPU Usage: 6.4%, Memory Usage: 13.7%\u001b[0m\n"
          ]
        },
        {
          "output_type": "stream",
          "name": "stdout",
          "text": [
            "INFO:     103.141.47.104:0 - \"POST /predict HTTP/1.1\" 200 OK\n"
          ]
        },
        {
          "output_type": "stream",
          "name": "stderr",
          "text": [
            "\u001b[32m2025-03-23 18:40:01.997\u001b[0m | \u001b[1mINFO    \u001b[0m | \u001b[36m__main__\u001b[0m:\u001b[36mpredict\u001b[0m:\u001b[36m4\u001b[0m - \u001b[1m📥 Request dari 103.141.47.104 - Upload file: mixed limbah.jpg\u001b[0m\n",
            "\u001b[32m2025-03-23 18:40:02.043\u001b[0m | \u001b[1mINFO    \u001b[0m | \u001b[36m__main__\u001b[0m:\u001b[36mpredict\u001b[0m:\u001b[36m30\u001b[0m - \u001b[1m✅ Prediksi: Anorganik, Confidence: 0.9831, Waktu Response: 0.0459 detik\u001b[0m\n",
            "\u001b[32m2025-03-23 18:40:02.044\u001b[0m | \u001b[1mINFO    \u001b[0m | \u001b[36m__main__\u001b[0m:\u001b[36mlog_system_usage\u001b[0m:\u001b[36m5\u001b[0m - \u001b[1m💾 CPU Usage: 4.4%, Memory Usage: 13.8%\u001b[0m\n"
          ]
        },
        {
          "output_type": "stream",
          "name": "stdout",
          "text": [
            "INFO:     103.141.47.104:0 - \"POST /predict HTTP/1.1\" 200 OK\n"
          ]
        },
        {
          "output_type": "stream",
          "name": "stderr",
          "text": [
            "\u001b[32m2025-03-23 18:40:03.791\u001b[0m | \u001b[1mINFO    \u001b[0m | \u001b[36m__main__\u001b[0m:\u001b[36mpredict\u001b[0m:\u001b[36m4\u001b[0m - \u001b[1m📥 Request dari 103.141.47.104 - Upload file: mixed limbah.jpg\u001b[0m\n",
            "\u001b[32m2025-03-23 18:40:03.833\u001b[0m | \u001b[1mINFO    \u001b[0m | \u001b[36m__main__\u001b[0m:\u001b[36mpredict\u001b[0m:\u001b[36m30\u001b[0m - \u001b[1m✅ Prediksi: Anorganik, Confidence: 0.9831, Waktu Response: 0.0422 detik\u001b[0m\n",
            "\u001b[32m2025-03-23 18:40:03.834\u001b[0m | \u001b[1mINFO    \u001b[0m | \u001b[36m__main__\u001b[0m:\u001b[36mlog_system_usage\u001b[0m:\u001b[36m5\u001b[0m - \u001b[1m💾 CPU Usage: 5.3%, Memory Usage: 13.8%\u001b[0m\n"
          ]
        },
        {
          "output_type": "stream",
          "name": "stdout",
          "text": [
            "INFO:     103.141.47.104:0 - \"POST /predict HTTP/1.1\" 200 OK\n"
          ]
        },
        {
          "output_type": "stream",
          "name": "stderr",
          "text": [
            "\u001b[32m2025-03-23 18:40:41.461\u001b[0m | \u001b[1mINFO    \u001b[0m | \u001b[36m__main__\u001b[0m:\u001b[36mpredict\u001b[0m:\u001b[36m4\u001b[0m - \u001b[1m📥 Request dari 103.141.47.104 - Upload file: mixed limbah.jpg\u001b[0m\n",
            "\u001b[32m2025-03-23 18:40:41.502\u001b[0m | \u001b[1mINFO    \u001b[0m | \u001b[36m__main__\u001b[0m:\u001b[36mpredict\u001b[0m:\u001b[36m30\u001b[0m - \u001b[1m✅ Prediksi: Anorganik, Confidence: 0.9831, Waktu Response: 0.0405 detik\u001b[0m\n",
            "\u001b[32m2025-03-23 18:40:41.503\u001b[0m | \u001b[1mINFO    \u001b[0m | \u001b[36m__main__\u001b[0m:\u001b[36mlog_system_usage\u001b[0m:\u001b[36m5\u001b[0m - \u001b[1m💾 CPU Usage: 13.2%, Memory Usage: 13.7%\u001b[0m\n"
          ]
        },
        {
          "output_type": "stream",
          "name": "stdout",
          "text": [
            "INFO:     103.141.47.104:0 - \"POST /predict HTTP/1.1\" 200 OK\n"
          ]
        },
        {
          "output_type": "stream",
          "name": "stderr",
          "text": [
            "\u001b[32m2025-03-23 18:40:45.374\u001b[0m | \u001b[1mINFO    \u001b[0m | \u001b[36m__main__\u001b[0m:\u001b[36mpredict\u001b[0m:\u001b[36m4\u001b[0m - \u001b[1m📥 Request dari 103.141.47.104 - Upload file: mixed limbah.jpg\u001b[0m\n",
            "\u001b[32m2025-03-23 18:40:45.417\u001b[0m | \u001b[1mINFO    \u001b[0m | \u001b[36m__main__\u001b[0m:\u001b[36mpredict\u001b[0m:\u001b[36m30\u001b[0m - \u001b[1m✅ Prediksi: Anorganik, Confidence: 0.9831, Waktu Response: 0.0427 detik\u001b[0m\n",
            "\u001b[32m2025-03-23 18:40:45.418\u001b[0m | \u001b[1mINFO    \u001b[0m | \u001b[36m__main__\u001b[0m:\u001b[36mlog_system_usage\u001b[0m:\u001b[36m5\u001b[0m - \u001b[1m💾 CPU Usage: 37.2%, Memory Usage: 13.9%\u001b[0m\n"
          ]
        },
        {
          "output_type": "stream",
          "name": "stdout",
          "text": [
            "INFO:     103.141.47.104:0 - \"POST /predict HTTP/1.1\" 200 OK\n"
          ]
        },
        {
          "output_type": "stream",
          "name": "stderr",
          "text": [
            "\u001b[32m2025-03-23 18:40:47.565\u001b[0m | \u001b[1mINFO    \u001b[0m | \u001b[36m__main__\u001b[0m:\u001b[36mpredict\u001b[0m:\u001b[36m4\u001b[0m - \u001b[1m📥 Request dari 103.141.47.104 - Upload file: mixed limbah.jpg\u001b[0m\n",
            "\u001b[32m2025-03-23 18:40:47.608\u001b[0m | \u001b[1mINFO    \u001b[0m | \u001b[36m__main__\u001b[0m:\u001b[36mpredict\u001b[0m:\u001b[36m30\u001b[0m - \u001b[1m✅ Prediksi: Anorganik, Confidence: 0.9831, Waktu Response: 0.0438 detik\u001b[0m\n",
            "\u001b[32m2025-03-23 18:40:47.610\u001b[0m | \u001b[1mINFO    \u001b[0m | \u001b[36m__main__\u001b[0m:\u001b[36mlog_system_usage\u001b[0m:\u001b[36m5\u001b[0m - \u001b[1m💾 CPU Usage: 4.6%, Memory Usage: 13.7%\u001b[0m\n"
          ]
        },
        {
          "output_type": "stream",
          "name": "stdout",
          "text": [
            "INFO:     103.141.47.104:0 - \"POST /predict HTTP/1.1\" 200 OK\n"
          ]
        },
        {
          "output_type": "stream",
          "name": "stderr",
          "text": [
            "\u001b[32m2025-03-23 18:41:42.065\u001b[0m | \u001b[1mINFO    \u001b[0m | \u001b[36m__main__\u001b[0m:\u001b[36mpredict\u001b[0m:\u001b[36m4\u001b[0m - \u001b[1m📥 Request dari 103.141.47.104 - Upload file: mixed limbah.jpg\u001b[0m\n",
            "\u001b[32m2025-03-23 18:41:42.109\u001b[0m | \u001b[1mINFO    \u001b[0m | \u001b[36m__main__\u001b[0m:\u001b[36mpredict\u001b[0m:\u001b[36m30\u001b[0m - \u001b[1m✅ Prediksi: Anorganik, Confidence: 0.9831, Waktu Response: 0.0432 detik\u001b[0m\n",
            "\u001b[32m2025-03-23 18:41:42.110\u001b[0m | \u001b[1mINFO    \u001b[0m | \u001b[36m__main__\u001b[0m:\u001b[36mlog_system_usage\u001b[0m:\u001b[36m5\u001b[0m - \u001b[1m💾 CPU Usage: 12.3%, Memory Usage: 13.7%\u001b[0m\n"
          ]
        },
        {
          "output_type": "stream",
          "name": "stdout",
          "text": [
            "INFO:     103.141.47.104:0 - \"POST /predict HTTP/1.1\" 200 OK\n",
            "Keeping Colab alive...\n",
            "Keeping Colab alive...\n",
            "Keeping Colab alive...\n",
            "Keeping Colab alive...\n",
            "Keeping Colab alive...\n",
            "Keeping Colab alive...\n",
            "Keeping Colab alive...\n",
            "Keeping Colab alive...\n",
            "Keeping Colab alive...\n",
            "Keeping Colab alive...\n",
            "Keeping Colab alive...\n",
            "Keeping Colab alive...\n",
            "Keeping Colab alive...\n",
            "Keeping Colab alive...\n",
            "Keeping Colab alive...\n",
            "Keeping Colab alive...\n",
            "Keeping Colab alive...\n",
            "Keeping Colab alive...\n",
            "Keeping Colab alive...\n",
            "Keeping Colab alive...\n",
            "Keeping Colab alive...\n",
            "Keeping Colab alive...\n",
            "Keeping Colab alive...\n",
            "Keeping Colab alive...\n",
            "Keeping Colab alive...\n",
            "Keeping Colab alive...\n",
            "Keeping Colab alive...\n",
            "Keeping Colab alive...\n",
            "Keeping Colab alive...\n",
            "Keeping Colab alive...\n",
            "Keeping Colab alive...\n",
            "Keeping Colab alive...\n"
          ]
        }
      ],
      "source": [
        "import time\n",
        "while True:\n",
        "    print(\"Keeping Colab alive...\", flush=True)\n",
        "    time.sleep(600)  # Setiap 10 menit"
      ]
    }
  ],
  "metadata": {
    "colab": {
      "provenance": []
    },
    "kernelspec": {
      "display_name": "Python 3",
      "name": "python3"
    },
    "language_info": {
      "name": "python"
    }
  },
  "nbformat": 4,
  "nbformat_minor": 0
}